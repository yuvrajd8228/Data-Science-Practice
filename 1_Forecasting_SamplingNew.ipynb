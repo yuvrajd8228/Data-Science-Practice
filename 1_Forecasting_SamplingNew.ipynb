{
  "cells": [
    {
      "cell_type": "code",
      "execution_count": null,
      "id": "ab69fe35",
      "metadata": {
        "ExecuteTime": {
          "end_time": "2023-10-23T08:33:32.608675Z",
          "start_time": "2023-10-23T08:33:26.154052Z"
        },
        "id": "ab69fe35"
      },
      "outputs": [],
      "source": [
        "import pandas as pd\n",
        "import matplotlib.pyplot as plt\n",
        "plt.rcParams['figure.figsize'] = (10,5)\n",
        "plt.rcParams['figure.dpi'] = 300\n",
        "import seaborn as sns\n",
        "sns.set_theme(style='darkgrid', palette='rainbow')\n",
        "%matplotlib inline"
      ]
    },
    {
      "cell_type": "code",
      "execution_count": null,
      "id": "e5264f72",
      "metadata": {
        "ExecuteTime": {
          "end_time": "2023-10-23T08:36:17.516470Z",
          "start_time": "2023-10-23T08:36:17.381418Z"
        },
        "scrolled": false,
        "id": "e5264f72"
      },
      "outputs": [],
      "source": [
        "df = pd.read_csv('sales.csv',\n",
        "                index_col=0, parse_dates=True) # Convert month column as an index\n",
        "df # parse_dates=True tells that index is a date column only, 3 years data is available"
      ]
    },
    {
      "cell_type": "code",
      "execution_count": null,
      "id": "3f8dc754",
      "metadata": {
        "ExecuteTime": {
          "end_time": "2023-10-23T08:36:31.838419Z",
          "start_time": "2023-10-23T08:36:31.815140Z"
        },
        "id": "3f8dc754"
      },
      "outputs": [],
      "source": [
        "df.info()"
      ]
    },
    {
      "cell_type": "code",
      "execution_count": null,
      "id": "66d0cc97",
      "metadata": {
        "ExecuteTime": {
          "end_time": "2023-10-23T08:36:52.708188Z",
          "start_time": "2023-10-23T08:36:52.692768Z"
        },
        "colab": {
          "base_uri": "https://localhost:8080/"
        },
        "id": "66d0cc97",
        "outputId": "6cc1c5ef-8f9e-4761-ec0e-fe2f3725a373"
      },
      "outputs": [
        {
          "output_type": "execute_result",
          "data": {
            "text/plain": [
              "(36, 1)"
            ]
          },
          "metadata": {},
          "execution_count": 4
        }
      ],
      "source": [
        "df.shape"
      ]
    },
    {
      "cell_type": "markdown",
      "id": "614a488a",
      "metadata": {
        "id": "614a488a"
      },
      "source": [
        "# Upsampling - Low to High Frequency"
      ]
    },
    {
      "cell_type": "code",
      "execution_count": null,
      "id": "11c7cdf6",
      "metadata": {
        "ExecuteTime": {
          "end_time": "2023-10-23T08:38:44.685695Z",
          "start_time": "2023-10-23T08:38:44.623094Z"
        },
        "id": "11c7cdf6"
      },
      "outputs": [],
      "source": [
        "upsampled = df.resample('D').mean()   #('D') represents daily samples, M-Monthly, Y-yearly, Q-Quarterly etc.\n",
        "upsampled.head(60) # .mean() is mandatory for resampling. Check every month's 1st day"
      ]
    },
    {
      "cell_type": "markdown",
      "id": "650bfac4",
      "metadata": {
        "id": "650bfac4"
      },
      "source": [
        "# Interpolate the missing values"
      ]
    },
    {
      "cell_type": "code",
      "execution_count": null,
      "id": "87a6f0ab",
      "metadata": {
        "ExecuteTime": {
          "end_time": "2023-10-23T08:39:44.393465Z",
          "start_time": "2023-10-23T08:39:44.347800Z"
        },
        "id": "87a6f0ab"
      },
      "outputs": [],
      "source": [
        "interpolated = upsampled.interpolate() # Fill the values in between for remaining days\n",
        "interpolated.head(50)"
      ]
    },
    {
      "cell_type": "code",
      "execution_count": null,
      "id": "5e3104a1",
      "metadata": {
        "ExecuteTime": {
          "end_time": "2023-10-23T08:42:23.533251Z",
          "start_time": "2023-10-23T08:42:22.379181Z"
        },
        "id": "5e3104a1"
      },
      "outputs": [],
      "source": [
        "interpolated.plot() # Plot line plot, By default month on x axis and sales on y axis\n",
        "# no seasonality, exponential increasing trend is available"
      ]
    },
    {
      "cell_type": "markdown",
      "id": "01417a07",
      "metadata": {
        "id": "01417a07"
      },
      "source": [
        "# Downsampling"
      ]
    },
    {
      "cell_type": "code",
      "execution_count": null,
      "id": "4efed94d",
      "metadata": {
        "ExecuteTime": {
          "end_time": "2023-10-23T08:43:50.636867Z",
          "start_time": "2023-10-23T08:43:50.596605Z"
        },
        "id": "4efed94d"
      },
      "outputs": [],
      "source": [
        "downsampled = df.resample('Q').mean()\n",
        "downsampled"
      ]
    },
    {
      "cell_type": "code",
      "execution_count": null,
      "id": "3449ecd8",
      "metadata": {
        "ExecuteTime": {
          "end_time": "2023-10-23T08:43:54.677349Z",
          "start_time": "2023-10-23T08:43:54.659995Z"
        },
        "colab": {
          "base_uri": "https://localhost:8080/"
        },
        "id": "3449ecd8",
        "outputId": "d358f7a1-e856-4aad-f81f-1217965fd8ff"
      },
      "outputs": [
        {
          "output_type": "execute_result",
          "data": {
            "text/plain": [
              "(12, 1)"
            ]
          },
          "metadata": {},
          "execution_count": 10
        }
      ],
      "source": [
        "downsampled.shape"
      ]
    },
    {
      "cell_type": "code",
      "execution_count": null,
      "id": "b962b4cc",
      "metadata": {
        "ExecuteTime": {
          "end_time": "2023-10-23T08:44:02.352159Z",
          "start_time": "2023-10-23T08:44:01.659248Z"
        },
        "id": "b962b4cc"
      },
      "outputs": [],
      "source": [
        "downsampled.plot()"
      ]
    },
    {
      "cell_type": "code",
      "execution_count": null,
      "id": "4d996497",
      "metadata": {
        "id": "4d996497"
      },
      "outputs": [],
      "source": []
    }
  ],
  "metadata": {
    "kernelspec": {
      "display_name": "Python 3 (ipykernel)",
      "language": "python",
      "name": "python3"
    },
    "language_info": {
      "codemirror_mode": {
        "name": "ipython",
        "version": 3
      },
      "file_extension": ".py",
      "mimetype": "text/x-python",
      "name": "python",
      "nbconvert_exporter": "python",
      "pygments_lexer": "ipython3",
      "version": "3.11.5"
    },
    "colab": {
      "provenance": []
    }
  },
  "nbformat": 4,
  "nbformat_minor": 5
}