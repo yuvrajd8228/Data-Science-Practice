{
  "cells": [
    {
      "cell_type": "markdown",
      "source": [
        "**This is a comment.**"
      ],
      "metadata": {
        "id": "VJNmS9SbtKC8"
      }
    },
    {
      "cell_type": "markdown",
      "source": [
        "\n",
        "\n",
        "```\n",
        "# This is formatted as code\n",
        "```\n",
        "\n"
      ],
      "metadata": {
        "id": "PczwE1iUsor5"
      }
    },
    {
      "cell_type": "code",
      "source": [
        "10+20"
      ],
      "metadata": {
        "id": "g_pt7nIdhE_1",
        "colab": {
          "base_uri": "https://localhost:8080/"
        },
        "outputId": "13b68e62-69b9-401d-b84a-7d2b2edd07ec"
      },
      "execution_count": 3,
      "outputs": [
        {
          "output_type": "execute_result",
          "data": {
            "text/plain": [
              "30"
            ]
          },
          "metadata": {},
          "execution_count": 3
        }
      ]
    },
    {
      "cell_type": "code",
      "source": [
        "\"Hello\""
      ],
      "metadata": {
        "colab": {
          "base_uri": "https://localhost:8080/",
          "height": 35
        },
        "id": "zWutO753W7G6",
        "outputId": "b2ec5953-40ec-4b70-97ec-6a6479c8fcd5"
      },
      "execution_count": 4,
      "outputs": [
        {
          "output_type": "execute_result",
          "data": {
            "text/plain": [
              "'Hello'"
            ],
            "application/vnd.google.colaboratory.intrinsic+json": {
              "type": "string"
            }
          },
          "metadata": {},
          "execution_count": 4
        }
      ]
    },
    {
      "cell_type": "code",
      "execution_count": 2,
      "metadata": {
        "colab": {
          "base_uri": "https://localhost:8080/"
        },
        "id": "J5n7c9GncLY-",
        "outputId": "09af9c62-083f-491d-dbcd-6f77a4a2af76"
      },
      "outputs": [
        {
          "output_type": "stream",
          "name": "stdout",
          "text": [
            "Welcome to ExcelR!\n"
          ]
        }
      ],
      "source": [
        "print(\"Welcome to ExcelR!\")"
      ]
    },
    {
      "cell_type": "code",
      "execution_count": 5,
      "metadata": {
        "colab": {
          "base_uri": "https://localhost:8080/"
        },
        "id": "DYsSNqkhy2Mh",
        "outputId": "12065fb9-12eb-4dd6-a68b-bd8107566609"
      },
      "outputs": [
        {
          "output_type": "stream",
          "name": "stdout",
          "text": [
            "\"Welcome to ExcelR!\"\n"
          ]
        }
      ],
      "source": [
        "print(\"\\\"Welcome to ExcelR!\\\"\")"
      ]
    },
    {
      "cell_type": "code",
      "execution_count": null,
      "metadata": {
        "colab": {
          "base_uri": "https://localhost:8080/",
          "height": 35
        },
        "id": "ZCE7Syxbdd3H",
        "outputId": "de445ab5-5b90-4d40-ff72-2a3a082b6010"
      },
      "outputs": [
        {
          "output_type": "execute_result",
          "data": {
            "text/plain": [
              "'hello'"
            ],
            "application/vnd.google.colaboratory.intrinsic+json": {
              "type": "string"
            }
          },
          "metadata": {},
          "execution_count": 2
        }
      ],
      "source": [
        "\"hello\""
      ]
    },
    {
      "cell_type": "code",
      "execution_count": 6,
      "metadata": {
        "colab": {
          "base_uri": "https://localhost:8080/"
        },
        "id": "R5Lotwnqy6JV",
        "outputId": "83ff585b-4bad-435d-b8d8-d90b4b7db0da"
      },
      "outputs": [
        {
          "output_type": "execute_result",
          "data": {
            "text/plain": [
              "16.0"
            ]
          },
          "metadata": {},
          "execution_count": 6
        }
      ],
      "source": [
        "120/12*2-4"
      ]
    },
    {
      "cell_type": "code",
      "execution_count": 7,
      "metadata": {
        "colab": {
          "base_uri": "https://localhost:8080/"
        },
        "id": "T5hf2dwwzE7E",
        "outputId": "e30d7318-81d6-44cf-c14b-5e7b1892de20"
      },
      "outputs": [
        {
          "output_type": "execute_result",
          "data": {
            "text/plain": [
              "30"
            ]
          },
          "metadata": {},
          "execution_count": 7
        }
      ],
      "source": [
        "(5-2)*10"
      ]
    },
    {
      "cell_type": "code",
      "source": [
        "13//2 # Floor Division gives nearest smallest integer (ans. is 6.5 so nearest smallest no. is 6)\n",
        "# Ceil gives nearest largest integer. There is no ceil division. We can find ceil and floor of any fraction\n",
        "# 3 things we can do with a fraction are: round(12.2)=12, floor(12.2)=12, ceil(12.2)=13"
      ],
      "metadata": {
        "colab": {
          "base_uri": "https://localhost:8080/"
        },
        "id": "o2-kibYnas5u",
        "outputId": "667114d9-832b-4f31-f66b-d6896038ec61"
      },
      "execution_count": null,
      "outputs": [
        {
          "output_type": "execute_result",
          "data": {
            "text/plain": [
              "6"
            ]
          },
          "metadata": {},
          "execution_count": 10
        }
      ]
    },
    {
      "cell_type": "code",
      "source": [
        "-13//2 # gives nearest smallest integer (Ans:-6.5 so nearest smallest no. is -7 as -7 is smaller than -6)"
      ],
      "metadata": {
        "colab": {
          "base_uri": "https://localhost:8080/"
        },
        "id": "lom3aBTda03Z",
        "outputId": "25eca4b1-42f3-4ad8-df7d-acee9bf77993"
      },
      "execution_count": null,
      "outputs": [
        {
          "output_type": "execute_result",
          "data": {
            "text/plain": [
              "-7"
            ]
          },
          "metadata": {},
          "execution_count": 11
        }
      ]
    },
    {
      "cell_type": "code",
      "execution_count": 8,
      "metadata": {
        "colab": {
          "base_uri": "https://localhost:8080/"
        },
        "id": "pVdor4HCzrZq",
        "outputId": "96c647d7-ee8a-4d6a-ca01-f44d07d51c29"
      },
      "outputs": [
        {
          "output_type": "execute_result",
          "data": {
            "text/plain": [
              "80"
            ]
          },
          "metadata": {},
          "execution_count": 8
        }
      ],
      "source": [
        "marks=80\n",
        "marks"
      ]
    },
    {
      "cell_type": "code",
      "execution_count": 9,
      "metadata": {
        "colab": {
          "base_uri": "https://localhost:8080/"
        },
        "id": "UloOiiLH0Dq7",
        "outputId": "78373013-0dc8-47b5-c81f-e226d24fbe51"
      },
      "outputs": [
        {
          "output_type": "execute_result",
          "data": {
            "text/plain": [
              "int"
            ]
          },
          "metadata": {},
          "execution_count": 9
        }
      ],
      "source": [
        "type(marks)"
      ]
    },
    {
      "cell_type": "code",
      "execution_count": 11,
      "metadata": {
        "colab": {
          "base_uri": "https://localhost:8080/"
        },
        "id": "HbCa0D6Y0HN4",
        "outputId": "4b0011ed-81bd-47d3-9a14-f7ce774e4e74"
      },
      "outputs": [
        {
          "output_type": "execute_result",
          "data": {
            "text/plain": [
              "32"
            ]
          },
          "metadata": {},
          "execution_count": 11
        }
      ],
      "source": [
        "2**5"
      ]
    },
    {
      "cell_type": "markdown",
      "source": [
        "Boolean Operations"
      ],
      "metadata": {
        "id": "-R693u8JemrB"
      }
    },
    {
      "cell_type": "code",
      "source": [
        "x = True\n",
        "y = False"
      ],
      "metadata": {
        "id": "ha9oGOU7elrz"
      },
      "execution_count": 12,
      "outputs": []
    },
    {
      "cell_type": "code",
      "source": [
        "x or y"
      ],
      "metadata": {
        "colab": {
          "base_uri": "https://localhost:8080/"
        },
        "id": "W8HJ0wlpewa4",
        "outputId": "0caa571b-c124-4097-ac80-6d895da0f6b2"
      },
      "execution_count": 13,
      "outputs": [
        {
          "output_type": "execute_result",
          "data": {
            "text/plain": [
              "True"
            ]
          },
          "metadata": {},
          "execution_count": 13
        }
      ]
    },
    {
      "cell_type": "code",
      "source": [
        "x and y"
      ],
      "metadata": {
        "colab": {
          "base_uri": "https://localhost:8080/"
        },
        "id": "wCLITfkmezSv",
        "outputId": "cb01b1e5-172c-4bcb-8cc3-5c8519d88304"
      },
      "execution_count": 14,
      "outputs": [
        {
          "output_type": "execute_result",
          "data": {
            "text/plain": [
              "False"
            ]
          },
          "metadata": {},
          "execution_count": 14
        }
      ]
    },
    {
      "cell_type": "code",
      "source": [
        "not x"
      ],
      "metadata": {
        "colab": {
          "base_uri": "https://localhost:8080/"
        },
        "id": "sNwoU65Ge15v",
        "outputId": "b82fb2cb-4fb4-41f4-e729-94760d83d53c"
      },
      "execution_count": 15,
      "outputs": [
        {
          "output_type": "execute_result",
          "data": {
            "text/plain": [
              "False"
            ]
          },
          "metadata": {},
          "execution_count": 15
        }
      ]
    },
    {
      "cell_type": "code",
      "source": [
        "not y"
      ],
      "metadata": {
        "colab": {
          "base_uri": "https://localhost:8080/"
        },
        "id": "b9ojSsfPe3qr",
        "outputId": "f6dc0d4d-0e4a-4116-e78a-9dfe59c9f9e8"
      },
      "execution_count": null,
      "outputs": [
        {
          "output_type": "execute_result",
          "data": {
            "text/plain": [
              "True"
            ]
          },
          "metadata": {},
          "execution_count": 16
        }
      ]
    },
    {
      "cell_type": "code",
      "source": [
        "x = 13\n",
        "y = 5"
      ],
      "metadata": {
        "id": "070EbnBze5dJ"
      },
      "execution_count": 23,
      "outputs": []
    },
    {
      "cell_type": "code",
      "source": [
        "c1 = x > y\n",
        "c1"
      ],
      "metadata": {
        "colab": {
          "base_uri": "https://localhost:8080/"
        },
        "id": "j3vW8TlffJMc",
        "outputId": "ce6c1872-5d03-4b3d-b12e-5060f6467f35"
      },
      "execution_count": 19,
      "outputs": [
        {
          "output_type": "execute_result",
          "data": {
            "text/plain": [
              "True"
            ]
          },
          "metadata": {},
          "execution_count": 19
        }
      ]
    },
    {
      "cell_type": "code",
      "source": [
        "c2 = x < y\n",
        "c2"
      ],
      "metadata": {
        "colab": {
          "base_uri": "https://localhost:8080/"
        },
        "id": "RVjnkpTvfMC-",
        "outputId": "d1fc5732-d748-40d1-9477-0c1b8cc7a064"
      },
      "execution_count": 20,
      "outputs": [
        {
          "output_type": "execute_result",
          "data": {
            "text/plain": [
              "False"
            ]
          },
          "metadata": {},
          "execution_count": 20
        }
      ]
    },
    {
      "cell_type": "code",
      "source": [
        "not c1"
      ],
      "metadata": {
        "colab": {
          "base_uri": "https://localhost:8080/"
        },
        "id": "AGUNTbfffYu9",
        "outputId": "62bb5d41-9702-4500-b4ab-2e6fc5aa7de0"
      },
      "execution_count": 21,
      "outputs": [
        {
          "output_type": "execute_result",
          "data": {
            "text/plain": [
              "False"
            ]
          },
          "metadata": {},
          "execution_count": 21
        }
      ]
    },
    {
      "cell_type": "code",
      "source": [
        "not c2"
      ],
      "metadata": {
        "colab": {
          "base_uri": "https://localhost:8080/"
        },
        "id": "LVKDsEFvfbOl",
        "outputId": "1f9a240e-e68d-4a4b-9812-d781ca35d567"
      },
      "execution_count": null,
      "outputs": [
        {
          "output_type": "execute_result",
          "data": {
            "text/plain": [
              "True"
            ]
          },
          "metadata": {},
          "execution_count": 25
        }
      ]
    },
    {
      "cell_type": "code",
      "source": [
        "type(c1)"
      ],
      "metadata": {
        "id": "8akeXABrfcq-",
        "colab": {
          "base_uri": "https://localhost:8080/"
        },
        "outputId": "30e74ac8-b097-44cf-9ff9-e6e674033e88"
      },
      "execution_count": 22,
      "outputs": [
        {
          "output_type": "execute_result",
          "data": {
            "text/plain": [
              "bool"
            ]
          },
          "metadata": {},
          "execution_count": 22
        }
      ]
    },
    {
      "cell_type": "code",
      "execution_count": 24,
      "metadata": {
        "id": "ZCCbi1DZ0MHN",
        "colab": {
          "base_uri": "https://localhost:8080/"
        },
        "outputId": "006de496-aeb3-4ec7-9c13-0a9c94eeab93"
      },
      "outputs": [
        {
          "output_type": "execute_result",
          "data": {
            "text/plain": [
              "float"
            ]
          },
          "metadata": {},
          "execution_count": 24
        }
      ],
      "source": [
        "price=50.5\n",
        "price\n",
        "type(price) # only shows output of last line"
      ]
    },
    {
      "cell_type": "code",
      "execution_count": 25,
      "metadata": {
        "colab": {
          "base_uri": "https://localhost:8080/"
        },
        "id": "p4BG67tc1CuP",
        "outputId": "dfe0a97d-f24a-4d5b-b30b-a29ea730da55"
      },
      "outputs": [
        {
          "output_type": "stream",
          "name": "stdout",
          "text": [
            "50.5\n"
          ]
        },
        {
          "output_type": "execute_result",
          "data": {
            "text/plain": [
              "float"
            ]
          },
          "metadata": {},
          "execution_count": 25
        }
      ],
      "source": [
        "price=50.5\n",
        "print(price) # to see intermediate line's output use print() function\n",
        "type(price)"
      ]
    },
    {
      "cell_type": "code",
      "execution_count": 26,
      "metadata": {
        "colab": {
          "base_uri": "https://localhost:8080/"
        },
        "id": "3ztD27Kc1BUd",
        "outputId": "c456903b-612f-437c-f9bf-e360ae1ee52a"
      },
      "outputs": [
        {
          "output_type": "execute_result",
          "data": {
            "text/plain": [
              "str"
            ]
          },
          "metadata": {},
          "execution_count": 26
        }
      ],
      "source": [
        "name=\"Snehal\"\n",
        "type(name)"
      ]
    },
    {
      "cell_type": "code",
      "execution_count": 27,
      "metadata": {
        "id": "4P6QLqzJ1ZPp",
        "colab": {
          "base_uri": "https://localhost:8080/"
        },
        "outputId": "de8da6f5-a9bc-4ca2-ea7b-b474058697c2"
      },
      "outputs": [
        {
          "output_type": "execute_result",
          "data": {
            "text/plain": [
              "['__add__',\n",
              " '__class__',\n",
              " '__contains__',\n",
              " '__delattr__',\n",
              " '__dir__',\n",
              " '__doc__',\n",
              " '__eq__',\n",
              " '__format__',\n",
              " '__ge__',\n",
              " '__getattribute__',\n",
              " '__getitem__',\n",
              " '__getnewargs__',\n",
              " '__gt__',\n",
              " '__hash__',\n",
              " '__init__',\n",
              " '__init_subclass__',\n",
              " '__iter__',\n",
              " '__le__',\n",
              " '__len__',\n",
              " '__lt__',\n",
              " '__mod__',\n",
              " '__mul__',\n",
              " '__ne__',\n",
              " '__new__',\n",
              " '__reduce__',\n",
              " '__reduce_ex__',\n",
              " '__repr__',\n",
              " '__rmod__',\n",
              " '__rmul__',\n",
              " '__setattr__',\n",
              " '__sizeof__',\n",
              " '__str__',\n",
              " '__subclasshook__',\n",
              " 'capitalize',\n",
              " 'casefold',\n",
              " 'center',\n",
              " 'count',\n",
              " 'encode',\n",
              " 'endswith',\n",
              " 'expandtabs',\n",
              " 'find',\n",
              " 'format',\n",
              " 'format_map',\n",
              " 'index',\n",
              " 'isalnum',\n",
              " 'isalpha',\n",
              " 'isascii',\n",
              " 'isdecimal',\n",
              " 'isdigit',\n",
              " 'isidentifier',\n",
              " 'islower',\n",
              " 'isnumeric',\n",
              " 'isprintable',\n",
              " 'isspace',\n",
              " 'istitle',\n",
              " 'isupper',\n",
              " 'join',\n",
              " 'ljust',\n",
              " 'lower',\n",
              " 'lstrip',\n",
              " 'maketrans',\n",
              " 'partition',\n",
              " 'removeprefix',\n",
              " 'removesuffix',\n",
              " 'replace',\n",
              " 'rfind',\n",
              " 'rindex',\n",
              " 'rjust',\n",
              " 'rpartition',\n",
              " 'rsplit',\n",
              " 'rstrip',\n",
              " 'split',\n",
              " 'splitlines',\n",
              " 'startswith',\n",
              " 'strip',\n",
              " 'swapcase',\n",
              " 'title',\n",
              " 'translate',\n",
              " 'upper',\n",
              " 'zfill']"
            ]
          },
          "metadata": {},
          "execution_count": 27
        }
      ],
      "source": [
        "dir(str) # all methods that can be applied on strings\n",
        "# __ dunder/magic methods (double underscore methods which python uses internally)"
      ]
    },
    {
      "cell_type": "code",
      "execution_count": 28,
      "metadata": {
        "colab": {
          "base_uri": "https://localhost:8080/",
          "height": 35
        },
        "id": "Jas63r1K2KLR",
        "outputId": "cf7255db-d1c7-486f-9928-48177ce7a547"
      },
      "outputs": [
        {
          "output_type": "execute_result",
          "data": {
            "text/plain": [
              "'Welcome to data science.'"
            ],
            "application/vnd.google.colaboratory.intrinsic+json": {
              "type": "string"
            }
          },
          "metadata": {},
          "execution_count": 28
        }
      ],
      "source": [
        "str1=\"welcome to Data Science.\"\n",
        "str1.capitalize()"
      ]
    },
    {
      "cell_type": "code",
      "execution_count": 29,
      "metadata": {
        "colab": {
          "base_uri": "https://localhost:8080/",
          "height": 35
        },
        "id": "OOdqBS7sQJQc",
        "outputId": "4d89607c-335d-4cca-d79c-68960bfb3504"
      },
      "outputs": [
        {
          "output_type": "execute_result",
          "data": {
            "text/plain": [
              "'welcome to Data Science.'"
            ],
            "application/vnd.google.colaboratory.intrinsic+json": {
              "type": "string"
            }
          },
          "metadata": {},
          "execution_count": 29
        }
      ],
      "source": [
        "str1"
      ]
    },
    {
      "cell_type": "code",
      "execution_count": 30,
      "metadata": {
        "colab": {
          "base_uri": "https://localhost:8080/",
          "height": 35
        },
        "id": "xt3FxjH023DF",
        "outputId": "b8a776d4-ff57-4d7e-b383-e0978c88da29"
      },
      "outputs": [
        {
          "output_type": "execute_result",
          "data": {
            "text/plain": [
              "'WELCOME TO DATA SCIENCE.'"
            ],
            "application/vnd.google.colaboratory.intrinsic+json": {
              "type": "string"
            }
          },
          "metadata": {},
          "execution_count": 30
        }
      ],
      "source": [
        "str1.upper()"
      ]
    },
    {
      "cell_type": "code",
      "execution_count": 31,
      "metadata": {
        "colab": {
          "base_uri": "https://localhost:8080/",
          "height": 35
        },
        "id": "AH1td4Em2826",
        "outputId": "21d37a48-6d68-482f-deb2-7bcf0a3975e4"
      },
      "outputs": [
        {
          "output_type": "execute_result",
          "data": {
            "text/plain": [
              "'welcome to data science.'"
            ],
            "application/vnd.google.colaboratory.intrinsic+json": {
              "type": "string"
            }
          },
          "metadata": {},
          "execution_count": 31
        }
      ],
      "source": [
        "str1.lower()"
      ]
    },
    {
      "cell_type": "code",
      "execution_count": 32,
      "metadata": {
        "colab": {
          "base_uri": "https://localhost:8080/",
          "height": 35
        },
        "id": "9n6alKMH2sge",
        "outputId": "b749e713-bd94-4cc7-89fa-a85a20a71af0"
      },
      "outputs": [
        {
          "output_type": "execute_result",
          "data": {
            "text/plain": [
              "'Welcome To Data Science.'"
            ],
            "application/vnd.google.colaboratory.intrinsic+json": {
              "type": "string"
            }
          },
          "metadata": {},
          "execution_count": 32
        }
      ],
      "source": [
        "str1.title()"
      ]
    },
    {
      "cell_type": "code",
      "execution_count": 35,
      "metadata": {
        "colab": {
          "base_uri": "https://localhost:8080/",
          "height": 52
        },
        "id": "tALQ0Gg7082F",
        "outputId": "fbb27dbd-195b-4912-b8fa-f1fc53b28010"
      },
      "outputs": [
        {
          "output_type": "stream",
          "name": "stdout",
          "text": [
            "BiRyaNI\n"
          ]
        },
        {
          "output_type": "execute_result",
          "data": {
            "text/plain": [
              "'Snehal'"
            ],
            "application/vnd.google.colaboratory.intrinsic+json": {
              "type": "string"
            }
          },
          "metadata": {},
          "execution_count": 35
        }
      ],
      "source": [
        "food=\"bIrYAni\"\n",
        "name=\"sNEHAL\"\n",
        "print(food.swapcase())\n",
        "name.swapcase()"
      ]
    },
    {
      "cell_type": "code",
      "execution_count": null,
      "metadata": {
        "colab": {
          "base_uri": "https://localhost:8080/"
        },
        "id": "suOfGTmV30-r",
        "outputId": "f5ddd537-724c-4e84-a6bc-561d2b141b25"
      },
      "outputs": [
        {
          "output_type": "stream",
          "name": "stdout",
          "text": [
            "['My', 'name', 'is', 'Snehal.']\n"
          ]
        },
        {
          "output_type": "execute_result",
          "data": {
            "text/plain": [
              "['Mumbai', 'Pune', 'Mumbai']"
            ]
          },
          "metadata": {},
          "execution_count": 35
        }
      ],
      "source": [
        "s1=\"My name is Snehal.\"\n",
        "print(s1.split()) # list of strings is created\n",
        "s2=\"Mumbai-Pune-Mumbai\"\n",
        "s2.split(\"-\")\n"
      ]
    },
    {
      "cell_type": "code",
      "execution_count": null,
      "metadata": {
        "colab": {
          "base_uri": "https://localhost:8080/"
        },
        "id": "AoGBLhIZ5NKD",
        "outputId": "47469c1c-17e1-42f1-b5e0-20baba7601b2"
      },
      "outputs": [
        {
          "output_type": "execute_result",
          "data": {
            "text/plain": [
              "['snehal', 'excelr.com']"
            ]
          },
          "metadata": {},
          "execution_count": 36
        }
      ],
      "source": [
        "mail=\"snehal@excelr.com\"\n",
        "mail.split(\"@\")"
      ]
    },
    {
      "cell_type": "code",
      "execution_count": null,
      "metadata": {
        "colab": {
          "base_uri": "https://localhost:8080/",
          "height": 35
        },
        "id": "0I_bnypbSu-P",
        "outputId": "69582434-1a7d-46da-8c04-bce82a63c6c9"
      },
      "outputs": [
        {
          "output_type": "execute_result",
          "data": {
            "text/plain": [
              "'My name is Snehal.'"
            ],
            "application/vnd.google.colaboratory.intrinsic+json": {
              "type": "string"
            }
          },
          "metadata": {},
          "execution_count": 37
        }
      ],
      "source": [
        "s1"
      ]
    },
    {
      "cell_type": "code",
      "execution_count": null,
      "metadata": {
        "colab": {
          "base_uri": "https://localhost:8080/",
          "height": 35
        },
        "id": "yQ2PPTgc5gfB",
        "outputId": "74e162b1-086d-4f3d-96f8-95476d7116f7"
      },
      "outputs": [
        {
          "output_type": "execute_result",
          "data": {
            "text/plain": [
              "'My name is Jyoti.'"
            ],
            "application/vnd.google.colaboratory.intrinsic+json": {
              "type": "string"
            }
          },
          "metadata": {},
          "execution_count": 39
        }
      ],
      "source": [
        "s1.replace(\"Snehal\",\"Jyoti\")"
      ]
    },
    {
      "cell_type": "code",
      "source": [
        "s1"
      ],
      "metadata": {
        "colab": {
          "base_uri": "https://localhost:8080/",
          "height": 35
        },
        "id": "Xob3bsIy6MGb",
        "outputId": "0c34031f-4b61-4641-b5b9-8fe9664dbe4f"
      },
      "execution_count": null,
      "outputs": [
        {
          "output_type": "execute_result",
          "data": {
            "text/plain": [
              "'My name is Snehal.'"
            ],
            "application/vnd.google.colaboratory.intrinsic+json": {
              "type": "string"
            }
          },
          "metadata": {},
          "execution_count": 40
        }
      ]
    },
    {
      "cell_type": "code",
      "execution_count": null,
      "metadata": {
        "colab": {
          "base_uri": "https://localhost:8080/",
          "height": 36
        },
        "id": "5kghaYWU55Hl",
        "outputId": "3381bb9e-eece-4bc2-bb8b-5b55f3b48fe0"
      },
      "outputs": [
        {
          "data": {
            "application/vnd.google.colaboratory.intrinsic+json": {
              "type": "string"
            },
            "text/plain": [
              "'\\nmultiline comment \\n'"
            ]
          },
          "execution_count": 31,
          "metadata": {},
          "output_type": "execute_result"
        }
      ],
      "source": [
        "# single line comment\n",
        "'''\n",
        "\n",
        "multiline comment\n",
        "'''\n"
      ]
    },
    {
      "cell_type": "markdown",
      "metadata": {
        "id": "wcLPmMSiblpa"
      },
      "source": []
    },
    {
      "cell_type": "code",
      "execution_count": null,
      "metadata": {
        "colab": {
          "base_uri": "https://localhost:8080/"
        },
        "id": "KrA3Q0Ls5GqY",
        "outputId": "8a5b042c-89e0-436b-d19e-859b5b986084"
      },
      "outputs": [
        {
          "output_type": "execute_result",
          "data": {
            "text/plain": [
              "3"
            ]
          },
          "metadata": {},
          "execution_count": 41
        }
      ],
      "source": [
        "city=\"Satara\"\n",
        "city.count(\"a\")"
      ]
    },
    {
      "cell_type": "code",
      "execution_count": null,
      "metadata": {
        "colab": {
          "base_uri": "https://localhost:8080/"
        },
        "id": "bIEQXCq56iXM",
        "outputId": "928f1dc6-f050-4592-80b4-dc83f66e0039"
      },
      "outputs": [
        {
          "output_type": "execute_result",
          "data": {
            "text/plain": [
              "1"
            ]
          },
          "metadata": {},
          "execution_count": 42
        }
      ],
      "source": [
        "\"Satara\".count(\"S\")"
      ]
    },
    {
      "cell_type": "code",
      "execution_count": null,
      "metadata": {
        "colab": {
          "base_uri": "https://localhost:8080/",
          "height": 35
        },
        "id": "2YiM8NTa6sfj",
        "outputId": "e4486020-9328-4966-9ee0-3cb3dcbc0beb"
      },
      "outputs": [
        {
          "output_type": "execute_result",
          "data": {
            "text/plain": [
              "'RajRajRajRaj'"
            ],
            "application/vnd.google.colaboratory.intrinsic+json": {
              "type": "string"
            }
          },
          "metadata": {},
          "execution_count": 43
        }
      ],
      "source": [
        "name=\"Raj\"\n",
        "name*4"
      ]
    },
    {
      "cell_type": "code",
      "execution_count": null,
      "metadata": {
        "colab": {
          "base_uri": "https://localhost:8080/"
        },
        "id": "nSrMm0dE7Itv",
        "outputId": "769d3902-315f-4739-fb94-cf603b7f7f41"
      },
      "outputs": [
        {
          "output_type": "execute_result",
          "data": {
            "text/plain": [
              "35"
            ]
          },
          "metadata": {},
          "execution_count": 44
        }
      ],
      "source": [
        "n1=5\n",
        "n1*7"
      ]
    },
    {
      "cell_type": "code",
      "execution_count": null,
      "metadata": {
        "colab": {
          "base_uri": "https://localhost:8080/",
          "height": 35
        },
        "id": "2ENh-uAW7MmK",
        "outputId": "3c6b779f-ddd9-4130-af82-6379d4c97da7"
      },
      "outputs": [
        {
          "output_type": "execute_result",
          "data": {
            "text/plain": [
              "'RajeshKulkarni'"
            ],
            "application/vnd.google.colaboratory.intrinsic+json": {
              "type": "string"
            }
          },
          "metadata": {},
          "execution_count": 45
        }
      ],
      "source": [
        "name=\"Rajesh\"\n",
        "surname=\"Kulkarni\"\n",
        "name + surname # concatenates without space"
      ]
    },
    {
      "cell_type": "code",
      "execution_count": null,
      "metadata": {
        "colab": {
          "base_uri": "https://localhost:8080/",
          "height": 35
        },
        "id": "69kHteTE7oPq",
        "outputId": "701ecca4-e6f1-4606-fd44-6766a3f71bf0"
      },
      "outputs": [
        {
          "output_type": "execute_result",
          "data": {
            "text/plain": [
              "'Rajesh Kulkarni'"
            ],
            "application/vnd.google.colaboratory.intrinsic+json": {
              "type": "string"
            }
          },
          "metadata": {},
          "execution_count": 46
        }
      ],
      "source": [
        "name + \" \" +surname"
      ]
    },
    {
      "cell_type": "code",
      "execution_count": null,
      "metadata": {
        "colab": {
          "base_uri": "https://localhost:8080/"
        },
        "id": "5g9qMtoGR6uy",
        "outputId": "3e1a9be6-d62e-49bc-ce3a-3e246244de2f"
      },
      "outputs": [
        {
          "output_type": "stream",
          "name": "stdout",
          "text": [
            "b is greater\n",
            "In False block\n",
            "787500\n"
          ]
        }
      ],
      "source": [
        "# Conditional Statement\n",
        "a=630\n",
        "b=1250\n",
        "if a>b:\n",
        "  print(\"a is greater\")\n",
        "  print(\"In True block\")\n",
        "  c=a+b\n",
        "  print(c)\n",
        "else:\n",
        "  print('b is greater')\n",
        "  print(\"In False block\")\n",
        "  c=a*b\n",
        "  print(c)\n"
      ]
    },
    {
      "cell_type": "code",
      "execution_count": null,
      "metadata": {
        "colab": {
          "base_uri": "https://localhost:8080/"
        },
        "id": "GB9FUERJSYgg",
        "outputId": "2a3b2ab4-5325-43b0-acd1-6703adb15b61"
      },
      "outputs": [
        {
          "output_type": "stream",
          "name": "stdout",
          "text": [
            "Greatest number is: 1300\n"
          ]
        }
      ],
      "source": [
        "a=1200\n",
        "b=1300\n",
        "if(a>b):\n",
        "  print(a,\"is greater\")\n",
        "else:\n",
        "  print(\"Greatest number is:\",b)"
      ]
    },
    {
      "cell_type": "code",
      "execution_count": null,
      "metadata": {
        "colab": {
          "base_uri": "https://localhost:8080/"
        },
        "id": "-2JSOKqj77DF",
        "outputId": "5614a689-2a4c-4e2d-996f-dc77f411ae8d"
      },
      "outputs": [
        {
          "output_type": "stream",
          "name": "stdout",
          "text": [
            "Hello from false if / else\n",
            "Bye... outside of if block\n",
            "Net Salary= 12000.0\n"
          ]
        }
      ],
      "source": [
        "salary=15000\n",
        "if (salary>20000):\n",
        "  tax=0.25\n",
        "  print(\"Hello from true if\")\n",
        "else:\n",
        "  tax=0.20\n",
        "  print(\"Hello from false if / else\")\n",
        "print(\"Bye... outside of if block\")\n",
        "net_sal=salary-tax*salary\n",
        "print(\"Net Salary=\",net_sal)\n",
        "# change value of salary as 15000 and execute again"
      ]
    },
    {
      "cell_type": "code",
      "execution_count": null,
      "metadata": {
        "colab": {
          "base_uri": "https://localhost:8080/"
        },
        "id": "vlwF6ANR9h7t",
        "outputId": "0a8d51c5-c4b8-49f0-ed62-d58281a35b90"
      },
      "outputs": [
        {
          "data": {
            "text/plain": [
              "range(5, 10)"
            ]
          },
          "execution_count": 10,
          "metadata": {},
          "output_type": "execute_result"
        }
      ],
      "source": [
        "range(5,10)"
      ]
    },
    {
      "cell_type": "code",
      "execution_count": null,
      "metadata": {
        "colab": {
          "base_uri": "https://localhost:8080/"
        },
        "id": "_dTWloVL96w3",
        "outputId": "f7179b38-f5dd-4a7b-9dea-a31ac6b4c356"
      },
      "outputs": [
        {
          "output_type": "stream",
          "name": "stdout",
          "text": [
            "5\n",
            "6\n",
            "7\n",
            "8\n",
            "9\n",
            "Bye\n"
          ]
        }
      ],
      "source": [
        "# For Loop\n",
        "for i in range(5,10): # Print numbers from 5 to 9. Default increment is 1.\n",
        "  print(i)\n",
        "print(\"Bye\")"
      ]
    },
    {
      "cell_type": "code",
      "source": [
        "for i in range(1,11):\n",
        "  print(i)"
      ],
      "metadata": {
        "colab": {
          "base_uri": "https://localhost:8080/"
        },
        "id": "YxberfRiznRB",
        "outputId": "c91fb77e-9b42-456a-9c98-15009b478308"
      },
      "execution_count": null,
      "outputs": [
        {
          "output_type": "stream",
          "name": "stdout",
          "text": [
            "1\n",
            "2\n",
            "3\n",
            "4\n",
            "5\n",
            "6\n",
            "7\n",
            "8\n",
            "9\n",
            "10\n"
          ]
        }
      ]
    },
    {
      "cell_type": "code",
      "execution_count": null,
      "metadata": {
        "colab": {
          "base_uri": "https://localhost:8080/"
        },
        "id": "anLYKM0SGzpT",
        "outputId": "7f05b4d3-7993-4279-e860-fa23cdf1c35d"
      },
      "outputs": [
        {
          "output_type": "stream",
          "name": "stdout",
          "text": [
            "1\n",
            "3\n",
            "5\n",
            "7\n",
            "9\n"
          ]
        }
      ],
      "source": [
        "# print odd numbers from 1 to 10\n",
        "for i in range(1,11,2):\n",
        "  print(i)\n"
      ]
    },
    {
      "cell_type": "code",
      "source": [
        "for i in range(2,11,2):\n",
        "  print(i)"
      ],
      "metadata": {
        "colab": {
          "base_uri": "https://localhost:8080/"
        },
        "id": "9I0FymDL-dmt",
        "outputId": "14f0e46e-0bf5-4139-cd08-570c358b6729"
      },
      "execution_count": null,
      "outputs": [
        {
          "output_type": "stream",
          "name": "stdout",
          "text": [
            "2\n",
            "4\n",
            "6\n",
            "8\n",
            "10\n"
          ]
        }
      ]
    },
    {
      "cell_type": "code",
      "execution_count": null,
      "metadata": {
        "id": "X3s787C2HF1x"
      },
      "outputs": [],
      "source": [
        "# Q1. print all even numbers from 1 to 20\n",
        "# Q2. print all odd numbers from 1 to 20"
      ]
    },
    {
      "cell_type": "code",
      "execution_count": null,
      "metadata": {
        "colab": {
          "base_uri": "https://localhost:8080/"
        },
        "id": "ASOWNvniIME1",
        "outputId": "16a3f7e5-8348-4759-8171-1cf9b82ca733"
      },
      "outputs": [
        {
          "output_type": "stream",
          "name": "stdout",
          "text": [
            "1\n",
            "2\n",
            "3\n",
            "4\n",
            "Same\n"
          ]
        }
      ],
      "source": [
        "# 'break' statement terminates the loop when condition is satisfied\n",
        "for i in range(1,11):\n",
        "  if i==5:\n",
        "    print(\"Same\")\n",
        "    break\n",
        "  else:\n",
        "    print(i)"
      ]
    },
    {
      "cell_type": "code",
      "execution_count": null,
      "metadata": {
        "colab": {
          "base_uri": "https://localhost:8080/"
        },
        "id": "xruOl41a-BbG",
        "outputId": "b3d13aca-e2c4-46a2-b25f-b7f349c879f0"
      },
      "outputs": [
        {
          "output_type": "stream",
          "name": "stdout",
          "text": [
            "0 0\n",
            "1 1\n",
            "2 4\n",
            "3 9\n",
            "4 16\n",
            "5 25\n",
            "6 36\n",
            "7 49\n",
            "8 64\n",
            "9 81\n",
            "10 100\n"
          ]
        }
      ],
      "source": [
        "for num in range(11): # 0 to 10\n",
        "  print(num, num*num) # num and its square"
      ]
    },
    {
      "cell_type": "code",
      "execution_count": null,
      "metadata": {
        "colab": {
          "base_uri": "https://localhost:8080/"
        },
        "id": "F2iKroYZ-QnZ",
        "outputId": "26531c95-732e-472e-952c-eca4e75df14c"
      },
      "outputs": [
        {
          "output_type": "stream",
          "name": "stdout",
          "text": [
            "1 @\n",
            "6 @\n",
            "11 @\n",
            "16 @\n",
            "21 @\n",
            "26 @\n"
          ]
        }
      ],
      "source": [
        "# range(start,stop,step)\n",
        "for i in range(1,31,5):\n",
        "  #print(i)\n",
        "  print(i,\"@\")\n"
      ]
    },
    {
      "cell_type": "code",
      "execution_count": null,
      "metadata": {
        "colab": {
          "base_uri": "https://localhost:8080/"
        },
        "id": "asipEjW3_DRW",
        "outputId": "b27578ba-0dcd-4505-afc1-c82f826a293d"
      },
      "outputs": [
        {
          "output_type": "stream",
          "name": "stdout",
          "text": [
            "S\n",
            "c\n",
            "i\n",
            "e\n",
            "n\n",
            "c\n",
            "e\n"
          ]
        }
      ],
      "source": [
        "subject=\"Science\"\n",
        "for i in subject:\n",
        "  print(i)"
      ]
    },
    {
      "cell_type": "code",
      "execution_count": null,
      "metadata": {
        "colab": {
          "base_uri": "https://localhost:8080/"
        },
        "id": "-N2x0Mu0_fQJ",
        "outputId": "1dda4fc5-cdd9-45b4-ef3e-c06fd94d8469"
      },
      "outputs": [
        {
          "output_type": "stream",
          "name": "stdout",
          "text": [
            "SnehalSnehalSnehal\n",
            "SnehalSnehalSnehalSnehal\n",
            "SnehalSnehalSnehalSnehalSnehal\n",
            "SnehalSnehalSnehalSnehalSnehalSnehal\n"
          ]
        }
      ],
      "source": [
        "# print name 3 times on first line, 4 times on 2nd, 5 - 3rd, 6 - 4th line. Range(3,7)\n",
        "'''\n",
        "name=\"Snehal\"\n",
        "for i in range(3,7):\n",
        "  x=(name + \" \")*i\n",
        "  print(x)\n",
        "'''\n",
        "name=\"Snehal\"\n",
        "for i in range(3,7):\n",
        "  print(name*i)\n"
      ]
    },
    {
      "cell_type": "code",
      "execution_count": null,
      "metadata": {
        "colab": {
          "base_uri": "https://localhost:8080/"
        },
        "id": "Ya5qsokpokth",
        "outputId": "8eaed1bc-abc9-401a-fea0-4279594cf6d2"
      },
      "outputs": [
        {
          "output_type": "stream",
          "name": "stdout",
          "text": [
            "d R I S H Y A M "
          ]
        }
      ],
      "source": [
        "# print each letter of movie on separate line\n",
        "# change case of each letter (upper to small and small to upper) of movie on single line with seperator ~\n",
        "movie=\"Drishyam\"\n",
        "for letter in movie:\n",
        "  #print(letter)\n",
        "  #print(letter.swapcase())\n",
        "  print(letter.swapcase(),end=\" \") #try upper(), lower(),\"-\",\"#\",etc. Default end parameter is 'new line'"
      ]
    },
    {
      "cell_type": "code",
      "execution_count": null,
      "metadata": {
        "colab": {
          "base_uri": "https://localhost:8080/"
        },
        "id": "CyN5yrtWAvwx",
        "outputId": "b61f591e-4797-4753-9c98-16afad6bd6f9"
      },
      "outputs": [
        {
          "output_type": "stream",
          "name": "stdout",
          "text": [
            "Odd Number: 1\n",
            "Even Number: 2\n",
            "Odd Number: 3\n",
            "Even Number: 4\n",
            "Odd Number: 5\n",
            "Even Number: 6\n",
            "Odd Number: 7\n",
            "Even Number: 8\n",
            "Odd Number: 9\n",
            "Even Number: 10\n"
          ]
        }
      ],
      "source": [
        "# Print all even and odd numbers between given range using For Loop\n",
        "for i in range(1, 11):\n",
        "    if i % 2 == 0:\n",
        "        print('Even Number:', i)\n",
        "    else:\n",
        "        print('Odd Number:', i)"
      ]
    },
    {
      "cell_type": "code",
      "execution_count": null,
      "metadata": {
        "id": "TJ3NKyiu3uYe",
        "colab": {
          "base_uri": "https://localhost:8080/"
        },
        "outputId": "276491ca-2b16-419b-c41b-d0e1c8332af1"
      },
      "outputs": [
        {
          "output_type": "stream",
          "name": "stdout",
          "text": [
            "Even Numbers:\n",
            "2 4 6 8 10  \n",
            "Odd Numbers:\n",
            "1 3 5 7 9 "
          ]
        }
      ],
      "source": [
        "# Print all even and odd numbers between given range using For Loop\n",
        "print('Even Numbers:')\n",
        "for i in range(1, 11):\n",
        "  if i % 2 == 0:\n",
        "    print(i, end=\" \")\n",
        "\n",
        "print(\" \") # new line\n",
        "print('Odd Numbers:')\n",
        "for i in range(1,11):\n",
        "  if i%2!=0: # != not equal to\n",
        "    print(i, end=\" \")"
      ]
    },
    {
      "cell_type": "code",
      "execution_count": null,
      "metadata": {
        "colab": {
          "base_uri": "https://localhost:8080/"
        },
        "id": "LyJQJZ7OhIwp",
        "outputId": "68c3f3ed-feab-4556-94f8-8271e970e902"
      },
      "outputs": [
        {
          "output_type": "execute_result",
          "data": {
            "text/plain": [
              "bool"
            ]
          },
          "metadata": {},
          "execution_count": 17
        }
      ],
      "source": [
        "status1=True\n",
        "type(status1)"
      ]
    },
    {
      "cell_type": "code",
      "execution_count": null,
      "metadata": {
        "colab": {
          "base_uri": "https://localhost:8080/"
        },
        "id": "lWdddDA_0XWJ",
        "outputId": "a77dffb6-64d7-4368-f52c-4258fb61fd00"
      },
      "outputs": [
        {
          "output_type": "execute_result",
          "data": {
            "text/plain": [
              "bool"
            ]
          },
          "metadata": {},
          "execution_count": 18
        }
      ],
      "source": [
        "status2=False\n",
        "type(status2)"
      ]
    },
    {
      "cell_type": "code",
      "execution_count": null,
      "metadata": {
        "colab": {
          "base_uri": "https://localhost:8080/"
        },
        "id": "HXI8hvEt0vuX",
        "outputId": "ff84352f-a628-47ce-b971-a35ff1e7cf29"
      },
      "outputs": [
        {
          "output_type": "stream",
          "name": "stdout",
          "text": [
            "DDDD aaaa tttt aaaa      SSSS cccc iiii eeee nnnn cccc eeee "
          ]
        }
      ],
      "source": [
        "# print each letter 4 times with separator as space\n",
        "for letter in \"Data Science\":\n",
        "  print(letter*4,end=\" \")"
      ]
    },
    {
      "cell_type": "code",
      "execution_count": null,
      "metadata": {
        "colab": {
          "base_uri": "https://localhost:8080/"
        },
        "id": "kuMFQ7ZTBTxu",
        "outputId": "cce91531-d437-4aad-90a8-ec3328de721c"
      },
      "outputs": [
        {
          "output_type": "execute_result",
          "data": {
            "text/plain": [
              "7"
            ]
          },
          "metadata": {},
          "execution_count": 20
        }
      ],
      "source": [
        "len(\"My name\")"
      ]
    },
    {
      "cell_type": "code",
      "execution_count": null,
      "metadata": {
        "colab": {
          "base_uri": "https://localhost:8080/"
        },
        "id": "j6lbB9eFB9LJ",
        "outputId": "608b704c-26c1-4a14-cc9f-55777de59a1a"
      },
      "outputs": [
        {
          "output_type": "execute_result",
          "data": {
            "text/plain": [
              "6"
            ]
          },
          "metadata": {},
          "execution_count": 21
        }
      ],
      "source": [
        "len(\"Snehal\")"
      ]
    },
    {
      "cell_type": "code",
      "execution_count": null,
      "metadata": {
        "colab": {
          "base_uri": "https://localhost:8080/"
        },
        "id": "y1UE1_3m0uio",
        "outputId": "34932edd-2839-4e0c-d086-7b2e87dda81a"
      },
      "outputs": [
        {
          "output_type": "execute_result",
          "data": {
            "text/plain": [
              "[40, 55, 70, 60, 80, 85, 78]"
            ]
          },
          "metadata": {},
          "execution_count": 22
        }
      ],
      "source": [
        "# Data Structure: 1.LIST\n",
        "# Lists are mutable.\n",
        "# created using square brackets []\n",
        "marks=[40,55,70,60,80,85,78]\n",
        "marks"
      ]
    },
    {
      "cell_type": "code",
      "execution_count": null,
      "metadata": {
        "colab": {
          "base_uri": "https://localhost:8080/"
        },
        "id": "1DTQi3Dt0tFn",
        "outputId": "e7873805-821d-425d-a565-a8e6b43728dd"
      },
      "outputs": [
        {
          "output_type": "execute_result",
          "data": {
            "text/plain": [
              "list"
            ]
          },
          "metadata": {},
          "execution_count": 23
        }
      ],
      "source": [
        "type(marks)"
      ]
    },
    {
      "cell_type": "code",
      "execution_count": null,
      "metadata": {
        "id": "Z-BbJRGEzCPo",
        "colab": {
          "base_uri": "https://localhost:8080/"
        },
        "outputId": "1df6380f-5eb4-43dc-b59d-2d042a7581f1"
      },
      "outputs": [
        {
          "output_type": "execute_result",
          "data": {
            "text/plain": [
              "['__add__',\n",
              " '__class__',\n",
              " '__class_getitem__',\n",
              " '__contains__',\n",
              " '__delattr__',\n",
              " '__delitem__',\n",
              " '__dir__',\n",
              " '__doc__',\n",
              " '__eq__',\n",
              " '__format__',\n",
              " '__ge__',\n",
              " '__getattribute__',\n",
              " '__getitem__',\n",
              " '__gt__',\n",
              " '__hash__',\n",
              " '__iadd__',\n",
              " '__imul__',\n",
              " '__init__',\n",
              " '__init_subclass__',\n",
              " '__iter__',\n",
              " '__le__',\n",
              " '__len__',\n",
              " '__lt__',\n",
              " '__mul__',\n",
              " '__ne__',\n",
              " '__new__',\n",
              " '__reduce__',\n",
              " '__reduce_ex__',\n",
              " '__repr__',\n",
              " '__reversed__',\n",
              " '__rmul__',\n",
              " '__setattr__',\n",
              " '__setitem__',\n",
              " '__sizeof__',\n",
              " '__str__',\n",
              " '__subclasshook__',\n",
              " 'append',\n",
              " 'clear',\n",
              " 'copy',\n",
              " 'count',\n",
              " 'extend',\n",
              " 'index',\n",
              " 'insert',\n",
              " 'pop',\n",
              " 'remove',\n",
              " 'reverse',\n",
              " 'sort']"
            ]
          },
          "metadata": {},
          "execution_count": 24
        }
      ],
      "source": [
        "dir(list)"
      ]
    },
    {
      "cell_type": "code",
      "execution_count": null,
      "metadata": {
        "colab": {
          "base_uri": "https://localhost:8080/"
        },
        "id": "RM-IdBGaCewh",
        "outputId": "73059bab-f8df-4958-b350-e4b47553e720"
      },
      "outputs": [
        {
          "output_type": "execute_result",
          "data": {
            "text/plain": [
              "7"
            ]
          },
          "metadata": {},
          "execution_count": 25
        }
      ],
      "source": [
        "len(marks)"
      ]
    },
    {
      "cell_type": "code",
      "execution_count": null,
      "metadata": {
        "colab": {
          "base_uri": "https://localhost:8080/"
        },
        "id": "XOcdYzZG7tD0",
        "outputId": "16b2b1fb-822a-44b0-a8b9-da20dba3934d"
      },
      "outputs": [
        {
          "output_type": "execute_result",
          "data": {
            "text/plain": [
              "[40, 55, 60, 70, 78, 80, 85]"
            ]
          },
          "metadata": {},
          "execution_count": 26
        }
      ],
      "source": [
        "new_marks=sorted(marks) # creates new sorted list. Original marks list remains unchanged\n",
        "new_marks"
      ]
    },
    {
      "cell_type": "code",
      "execution_count": null,
      "metadata": {
        "colab": {
          "base_uri": "https://localhost:8080/"
        },
        "id": "-3tK0Sdz8Egd",
        "outputId": "784073b7-b9c1-4f82-ff1d-cd2d5b44de19"
      },
      "outputs": [
        {
          "output_type": "execute_result",
          "data": {
            "text/plain": [
              "[40, 55, 70, 60, 80, 85, 78]"
            ]
          },
          "metadata": {},
          "execution_count": 27
        }
      ],
      "source": [
        "marks"
      ]
    },
    {
      "cell_type": "code",
      "execution_count": null,
      "metadata": {
        "id": "sEsavxqT8V-g"
      },
      "outputs": [],
      "source": [
        "marks.sort() # original list is sorted in ascending order by default"
      ]
    },
    {
      "cell_type": "code",
      "source": [
        "marks"
      ],
      "metadata": {
        "colab": {
          "base_uri": "https://localhost:8080/"
        },
        "id": "T8skofrdPiU5",
        "outputId": "3893a11c-0f20-4730-9c25-0103d826bd28"
      },
      "execution_count": null,
      "outputs": [
        {
          "output_type": "execute_result",
          "data": {
            "text/plain": [
              "[40, 55, 60, 70, 78, 80, 85]"
            ]
          },
          "metadata": {},
          "execution_count": 29
        }
      ]
    },
    {
      "cell_type": "code",
      "execution_count": null,
      "metadata": {
        "colab": {
          "base_uri": "https://localhost:8080/"
        },
        "id": "dWDWCfzJ8fkD",
        "outputId": "abf9ed0e-c37e-4b9c-f671-8f3844a326df"
      },
      "outputs": [
        {
          "output_type": "execute_result",
          "data": {
            "text/plain": [
              "[40, 55, 60, 70, 78, 80, 85, 35]"
            ]
          },
          "metadata": {},
          "execution_count": 30
        }
      ],
      "source": [
        "marks.append(35) # Append will add element in the last only.\n",
        "marks"
      ]
    },
    {
      "cell_type": "code",
      "source": [],
      "metadata": {
        "id": "0RoyhPnWkGQ-"
      },
      "execution_count": null,
      "outputs": []
    },
    {
      "cell_type": "code",
      "execution_count": null,
      "metadata": {
        "id": "7Dot9lIp8y7a"
      },
      "outputs": [],
      "source": [
        "marks.reverse()"
      ]
    },
    {
      "cell_type": "code",
      "execution_count": null,
      "metadata": {
        "colab": {
          "base_uri": "https://localhost:8080/"
        },
        "id": "GGO4bCHV8wnI",
        "outputId": "378642cd-47e3-4a10-ee3c-d78cd9f425fa"
      },
      "outputs": [
        {
          "output_type": "execute_result",
          "data": {
            "text/plain": [
              "[35, 85, 80, 78, 70, 60, 55, 40]"
            ]
          },
          "metadata": {},
          "execution_count": 32
        }
      ],
      "source": [
        "marks"
      ]
    },
    {
      "cell_type": "code",
      "execution_count": null,
      "metadata": {
        "id": "GO15gE3g9ene"
      },
      "outputs": [],
      "source": [
        "marks2=[42,64,50,78,87,80]"
      ]
    },
    {
      "cell_type": "code",
      "execution_count": null,
      "metadata": {
        "colab": {
          "base_uri": "https://localhost:8080/"
        },
        "id": "e-OxK3eO9qZK",
        "outputId": "4222fe0e-79d0-4637-b45d-aebf68b4813b"
      },
      "outputs": [
        {
          "output_type": "execute_result",
          "data": {
            "text/plain": [
              "[87, 80, 78, 64, 50, 42]"
            ]
          },
          "metadata": {},
          "execution_count": 34
        }
      ],
      "source": [
        "marks2.sort(reverse=True) # sorts in descending order when reverse=True\n",
        "marks2"
      ]
    },
    {
      "cell_type": "code",
      "execution_count": null,
      "metadata": {
        "id": "9ypiIZWy97IZ"
      },
      "outputs": [],
      "source": [
        "marks3=[40,60,50,70,80,85]\n",
        "marks3.sort(reverse=False) # by default it sorts in ascending order. No need to write 'reverse=False'"
      ]
    },
    {
      "cell_type": "code",
      "execution_count": null,
      "metadata": {
        "colab": {
          "base_uri": "https://localhost:8080/"
        },
        "id": "jdN33I8Q-Pr_",
        "outputId": "1128f0d8-52b8-4bb6-9cd1-13ef7e128b50"
      },
      "outputs": [
        {
          "output_type": "execute_result",
          "data": {
            "text/plain": [
              "[40, 50, 60, 70, 80, 85]"
            ]
          },
          "metadata": {},
          "execution_count": 36
        }
      ],
      "source": [
        "marks3"
      ]
    },
    {
      "cell_type": "code",
      "source": [
        "marks3.insert(3,89) # insert 89 at 3rd index"
      ],
      "metadata": {
        "id": "uBYfJHu-kMux"
      },
      "execution_count": null,
      "outputs": []
    },
    {
      "cell_type": "code",
      "source": [
        "marks3"
      ],
      "metadata": {
        "colab": {
          "base_uri": "https://localhost:8080/"
        },
        "id": "O0Gft0S4kaJs",
        "outputId": "9248da8b-5891-4c10-fa81-5082cdb0c4a3"
      },
      "execution_count": null,
      "outputs": [
        {
          "output_type": "execute_result",
          "data": {
            "text/plain": [
              "[40, 50, 60, 89, 89, 70, 80, 85]"
            ]
          },
          "metadata": {},
          "execution_count": 40
        }
      ]
    },
    {
      "cell_type": "code",
      "execution_count": null,
      "metadata": {
        "colab": {
          "base_uri": "https://localhost:8080/"
        },
        "id": "V0SWXzFs-S8w",
        "outputId": "80c72ff2-e237-4289-aee0-2d4f4c008a69"
      },
      "outputs": [
        {
          "output_type": "execute_result",
          "data": {
            "text/plain": [
              "[35, 85, 80, 78, 70, 60, 55, 40]"
            ]
          },
          "metadata": {},
          "execution_count": 41
        }
      ],
      "source": [
        "marks"
      ]
    },
    {
      "cell_type": "code",
      "execution_count": null,
      "metadata": {
        "colab": {
          "base_uri": "https://localhost:8080/"
        },
        "id": "DC4zPVBEBsdO",
        "outputId": "668d4fb8-641a-4466-870a-37970da6243e"
      },
      "outputs": [
        {
          "output_type": "execute_result",
          "data": {
            "text/plain": [
              "False"
            ]
          },
          "metadata": {},
          "execution_count": 42
        }
      ],
      "source": [
        "90 in marks # checks whether 90 is present in list or not. IF yes returns True, else False"
      ]
    },
    {
      "cell_type": "code",
      "execution_count": null,
      "metadata": {
        "colab": {
          "base_uri": "https://localhost:8080/"
        },
        "id": "vN4eianGBwTC",
        "outputId": "47bdafd0-f2b6-44a0-fb37-afa19c829264"
      },
      "outputs": [
        {
          "output_type": "execute_result",
          "data": {
            "text/plain": [
              "True"
            ]
          },
          "metadata": {},
          "execution_count": 43
        }
      ],
      "source": [
        "85 in marks"
      ]
    },
    {
      "cell_type": "code",
      "execution_count": null,
      "metadata": {
        "colab": {
          "base_uri": "https://localhost:8080/"
        },
        "id": "lwJ3_iTzCdGG",
        "outputId": "a4fcf5da-e4fd-4b28-d150-e164d0d3ac6f"
      },
      "outputs": [
        {
          "output_type": "execute_result",
          "data": {
            "text/plain": [
              "[10, 20, 30, 40, 50, 60]"
            ]
          },
          "metadata": {},
          "execution_count": 44
        }
      ],
      "source": [
        "list1=[10,20,30]\n",
        "list2=[40,50,60]\n",
        "list1 + list2 # concatenation or merging of two lists"
      ]
    },
    {
      "cell_type": "code",
      "execution_count": null,
      "metadata": {
        "colab": {
          "base_uri": "https://localhost:8080/"
        },
        "id": "1LBQEUOnC0Jm",
        "outputId": "5c276da0-b983-4fc7-a7af-d4e112f13636"
      },
      "outputs": [
        {
          "output_type": "execute_result",
          "data": {
            "text/plain": [
              "[10, 20, 30, 40, 50, 60, 10, 20, 30, 40, 50, 60, 10, 20, 30, 40, 50, 60]"
            ]
          },
          "metadata": {},
          "execution_count": 37
        }
      ],
      "source": [
        "(list1+list2)*3 # repeats 3 times"
      ]
    },
    {
      "cell_type": "code",
      "source": [
        "stationary=['pen','pencil','sharpner']\n",
        "stationary"
      ],
      "metadata": {
        "colab": {
          "base_uri": "https://localhost:8080/"
        },
        "id": "ab-RQaOSlq_j",
        "outputId": "bd62e193-1b0e-4196-9251-087e1e0f2aee"
      },
      "execution_count": null,
      "outputs": [
        {
          "output_type": "execute_result",
          "data": {
            "text/plain": [
              "['pen', 'pencil', 'sharpner']"
            ]
          },
          "metadata": {},
          "execution_count": 45
        }
      ]
    },
    {
      "cell_type": "code",
      "source": [
        "len(stationary)"
      ],
      "metadata": {
        "colab": {
          "base_uri": "https://localhost:8080/"
        },
        "id": "M-C8EyBkl8vR",
        "outputId": "874e4e21-096d-4166-91e3-56a44545485c"
      },
      "execution_count": null,
      "outputs": [
        {
          "output_type": "execute_result",
          "data": {
            "text/plain": [
              "3"
            ]
          },
          "metadata": {},
          "execution_count": 46
        }
      ]
    },
    {
      "cell_type": "code",
      "source": [
        "stationary.append(['notebook','book']) # only 1 list element will be added\n",
        "stationary"
      ],
      "metadata": {
        "colab": {
          "base_uri": "https://localhost:8080/"
        },
        "id": "rVp5ops6l-3E",
        "outputId": "165aac4b-7061-4cbc-e9d9-5b8d86dc014b"
      },
      "execution_count": null,
      "outputs": [
        {
          "output_type": "execute_result",
          "data": {
            "text/plain": [
              "['pen', 'pencil', 'sharpner', ['notebook', 'book']]"
            ]
          },
          "metadata": {},
          "execution_count": 47
        }
      ]
    },
    {
      "cell_type": "code",
      "source": [
        "len(stationary)"
      ],
      "metadata": {
        "colab": {
          "base_uri": "https://localhost:8080/"
        },
        "id": "ucuNuMMXmR5A",
        "outputId": "9946034f-6987-4cce-d7ce-872fbd32990c"
      },
      "execution_count": null,
      "outputs": [
        {
          "output_type": "execute_result",
          "data": {
            "text/plain": [
              "4"
            ]
          },
          "metadata": {},
          "execution_count": 48
        }
      ]
    },
    {
      "cell_type": "code",
      "source": [
        "stationary.pop(1) # index 1 element will be removed from list"
      ],
      "metadata": {
        "colab": {
          "base_uri": "https://localhost:8080/",
          "height": 35
        },
        "id": "mHqc_G1cGJgY",
        "outputId": "64d19023-a168-4d0a-cca6-03b53f3156c7"
      },
      "execution_count": null,
      "outputs": [
        {
          "output_type": "execute_result",
          "data": {
            "text/plain": [
              "'pencil'"
            ],
            "application/vnd.google.colaboratory.intrinsic+json": {
              "type": "string"
            }
          },
          "metadata": {},
          "execution_count": 49
        }
      ]
    },
    {
      "cell_type": "code",
      "source": [
        "stationary"
      ],
      "metadata": {
        "colab": {
          "base_uri": "https://localhost:8080/"
        },
        "id": "-qf1DHiYGU5R",
        "outputId": "930b4170-954b-49c5-cfc8-c374d61189e2"
      },
      "execution_count": null,
      "outputs": [
        {
          "output_type": "execute_result",
          "data": {
            "text/plain": [
              "['pen', 'sharpner', ['notebook', 'book']]"
            ]
          },
          "metadata": {},
          "execution_count": 50
        }
      ]
    },
    {
      "cell_type": "code",
      "source": [
        "stationary.append(['pencil']) # only 1 list element will be added\n",
        "stationary"
      ],
      "metadata": {
        "colab": {
          "base_uri": "https://localhost:8080/"
        },
        "id": "9yFs3mvvGWmG",
        "outputId": "1469a74c-723e-479c-e9dc-2de669a29d70"
      },
      "execution_count": null,
      "outputs": [
        {
          "output_type": "execute_result",
          "data": {
            "text/plain": [
              "['pen', 'sharpner', ['notebook', 'book'], ['pencil']]"
            ]
          },
          "metadata": {},
          "execution_count": 51
        }
      ]
    },
    {
      "cell_type": "code",
      "source": [
        "stationary.pop() #if index no. is not mentioned pop() removes the last element\n",
        "stationary"
      ],
      "metadata": {
        "colab": {
          "base_uri": "https://localhost:8080/"
        },
        "id": "-JLTrn91HRwQ",
        "outputId": "59afd20c-64b5-4141-a9ec-bf3a49d24b69"
      },
      "execution_count": null,
      "outputs": [
        {
          "output_type": "execute_result",
          "data": {
            "text/plain": [
              "['pen', 'sharpner', ['notebook', 'book']]"
            ]
          },
          "metadata": {},
          "execution_count": 52
        }
      ]
    },
    {
      "cell_type": "code",
      "source": [
        "# to add multiple items use extend()\n",
        "stationary.extend(['writing_pad','textbook','eraser'])"
      ],
      "metadata": {
        "id": "ELicCVeimUb5"
      },
      "execution_count": null,
      "outputs": []
    },
    {
      "cell_type": "code",
      "source": [
        "stationary"
      ],
      "metadata": {
        "colab": {
          "base_uri": "https://localhost:8080/"
        },
        "id": "bxbudXYCmqH9",
        "outputId": "1ded55d3-ec4a-423e-b65d-be730d6cb49b"
      },
      "execution_count": null,
      "outputs": [
        {
          "output_type": "execute_result",
          "data": {
            "text/plain": [
              "['pen', 'sharpner', ['notebook', 'book'], 'writing_pad', 'textbook', 'eraser']"
            ]
          },
          "metadata": {},
          "execution_count": 54
        }
      ]
    },
    {
      "cell_type": "code",
      "source": [
        "stationary.remove('eraser') # will remove mentioned element name from list\n",
        "stationary"
      ],
      "metadata": {
        "colab": {
          "base_uri": "https://localhost:8080/"
        },
        "id": "C6aMdJYbHy4Y",
        "outputId": "8ac75eec-d9f4-49e5-eec9-76c1719d18e3"
      },
      "execution_count": null,
      "outputs": [
        {
          "output_type": "execute_result",
          "data": {
            "text/plain": [
              "['pen', 'sharpner', ['notebook', 'book'], 'writing_pad', 'textbook']"
            ]
          },
          "metadata": {},
          "execution_count": 55
        }
      ]
    },
    {
      "cell_type": "code",
      "source": [
        "len(stationary)"
      ],
      "metadata": {
        "colab": {
          "base_uri": "https://localhost:8080/"
        },
        "id": "n0q9LhhqmrzU",
        "outputId": "175270e1-4f93-42ed-f8fa-e76cf5cf3ed9"
      },
      "execution_count": null,
      "outputs": [
        {
          "output_type": "execute_result",
          "data": {
            "text/plain": [
              "5"
            ]
          },
          "metadata": {},
          "execution_count": 56
        }
      ]
    },
    {
      "cell_type": "code",
      "source": [
        "stationary.index('writing_pad')"
      ],
      "metadata": {
        "colab": {
          "base_uri": "https://localhost:8080/"
        },
        "id": "DT1swrxtKBUK",
        "outputId": "62efef61-3635-4006-ee04-1f0e6adb1e50"
      },
      "execution_count": null,
      "outputs": [
        {
          "output_type": "execute_result",
          "data": {
            "text/plain": [
              "3"
            ]
          },
          "metadata": {},
          "execution_count": 57
        }
      ]
    },
    {
      "cell_type": "code",
      "source": [
        "'''\n",
        "if condition:\n",
        "  -- things to do when condition is true\n",
        "else:\n",
        "  -- things to do when condition is false\n",
        "'''\n",
        "# elif - multiple conditions\n",
        "\n",
        "num = -5 # try 0, 5\n",
        "if num > 0:\n",
        "  print(\"Positive\")\n",
        "elif num < 0:\n",
        "  print(\"Negative\")\n",
        "else:\n",
        "  print(\"It's Zero\")"
      ],
      "metadata": {
        "id": "CPb89jZ1KIz2",
        "colab": {
          "base_uri": "https://localhost:8080/"
        },
        "outputId": "728c85a2-766f-43be-9e94-6b1f3e9b5d64"
      },
      "execution_count": null,
      "outputs": [
        {
          "output_type": "stream",
          "name": "stdout",
          "text": [
            "Negative\n"
          ]
        }
      ]
    },
    {
      "cell_type": "markdown",
      "source": [
        "**Get input from user and find grades**"
      ],
      "metadata": {
        "id": "tzaY_0UNimEn"
      }
    },
    {
      "cell_type": "code",
      "source": [
        "name = input(\"Enter your name: \") # while taking input it may get time to execute or laptop may hang. Then assign value directly to a variable"
      ],
      "metadata": {
        "colab": {
          "base_uri": "https://localhost:8080/"
        },
        "id": "C7yM2E19iXg8",
        "outputId": "ae009684-c3db-4102-da24-4b6720d8fa5f"
      },
      "execution_count": null,
      "outputs": [
        {
          "name": "stdout",
          "output_type": "stream",
          "text": [
            "Enter your name: Neha\n"
          ]
        }
      ]
    },
    {
      "cell_type": "code",
      "source": [
        "name"
      ],
      "metadata": {
        "colab": {
          "base_uri": "https://localhost:8080/",
          "height": 35
        },
        "id": "bPraru2sit1v",
        "outputId": "437665ef-98f9-4114-93be-9e166283cd4d"
      },
      "execution_count": null,
      "outputs": [
        {
          "output_type": "execute_result",
          "data": {
            "text/plain": [
              "'Neha'"
            ],
            "application/vnd.google.colaboratory.intrinsic+json": {
              "type": "string"
            }
          },
          "metadata": {},
          "execution_count": 58
        }
      ]
    },
    {
      "cell_type": "code",
      "source": [
        "marks = input(\"Enter Marks: \")"
      ],
      "metadata": {
        "colab": {
          "base_uri": "https://localhost:8080/"
        },
        "id": "1Kc-v-WRiwx6",
        "outputId": "6c346b6d-7218-4fed-9961-1293dfd921df"
      },
      "execution_count": null,
      "outputs": [
        {
          "name": "stdout",
          "output_type": "stream",
          "text": [
            "Enter Marks: 95\n"
          ]
        }
      ]
    },
    {
      "cell_type": "code",
      "source": [
        "marks"
      ],
      "metadata": {
        "colab": {
          "base_uri": "https://localhost:8080/",
          "height": 35
        },
        "id": "Sha7Njavi19M",
        "outputId": "7c21756a-fcba-4b4a-e5e0-589e5737a588"
      },
      "execution_count": null,
      "outputs": [
        {
          "output_type": "execute_result",
          "data": {
            "text/plain": [
              "'95'"
            ],
            "application/vnd.google.colaboratory.intrinsic+json": {
              "type": "string"
            }
          },
          "metadata": {},
          "execution_count": 60
        }
      ]
    },
    {
      "cell_type": "code",
      "source": [
        "marks + 10 # guess the output"
      ],
      "metadata": {
        "id": "H5BqrpJAj7bz",
        "colab": {
          "base_uri": "https://localhost:8080/",
          "height": 177
        },
        "outputId": "70719e33-09bf-4628-a4f6-e70862700f33"
      },
      "execution_count": null,
      "outputs": [
        {
          "output_type": "error",
          "ename": "TypeError",
          "evalue": "ignored",
          "traceback": [
            "\u001b[0;31m---------------------------------------------------------------------------\u001b[0m",
            "\u001b[0;31mTypeError\u001b[0m                                 Traceback (most recent call last)",
            "\u001b[0;32m<ipython-input-61-4df724701662>\u001b[0m in \u001b[0;36m<cell line: 1>\u001b[0;34m()\u001b[0m\n\u001b[0;32m----> 1\u001b[0;31m \u001b[0mmarks\u001b[0m \u001b[0;34m+\u001b[0m \u001b[0;36m10\u001b[0m \u001b[0;31m# guess the output\u001b[0m\u001b[0;34m\u001b[0m\u001b[0;34m\u001b[0m\u001b[0m\n\u001b[0m",
            "\u001b[0;31mTypeError\u001b[0m: can only concatenate str (not \"int\") to str"
          ]
        }
      ]
    },
    {
      "cell_type": "code",
      "source": [
        "# output is coming in quotation i.e. it is treated as string. You have to convert it to number.\n",
        "# instead of doing it in 2 steps, while accepting input only we can convert it to integer.\n",
        "age = int(input(\"Enter age: \"))"
      ],
      "metadata": {
        "colab": {
          "base_uri": "https://localhost:8080/"
        },
        "id": "_0LnKwFOi4EK",
        "outputId": "0381db95-27f6-4f4d-e8e2-46f11683066b"
      },
      "execution_count": null,
      "outputs": [
        {
          "name": "stdout",
          "output_type": "stream",
          "text": [
            "Enter age: 21\n"
          ]
        }
      ]
    },
    {
      "cell_type": "code",
      "source": [
        "age + 5"
      ],
      "metadata": {
        "colab": {
          "base_uri": "https://localhost:8080/"
        },
        "id": "PCJkcvGPj1AC",
        "outputId": "b9dc862d-69bd-4e05-99f8-8b2e56164974"
      },
      "execution_count": null,
      "outputs": [
        {
          "output_type": "execute_result",
          "data": {
            "text/plain": [
              "26"
            ]
          },
          "metadata": {},
          "execution_count": 63
        }
      ]
    },
    {
      "cell_type": "code",
      "source": [
        "# accept a number from user, if it is divisible by 7 display \"You win\" else display \"Sorry, try again\"\n",
        "num = int(input(\"Enter a number: \"))\n",
        "print(num)\n",
        "if num % 7 == 0:\n",
        "  print(\"You win\")\n",
        "else:\n",
        "  print(\"Sorry, try again\")"
      ],
      "metadata": {
        "colab": {
          "base_uri": "https://localhost:8080/"
        },
        "id": "ZEKO5sqtj4aM",
        "outputId": "2bb012e0-3058-4792-de00-202618f7b5d0"
      },
      "execution_count": null,
      "outputs": [
        {
          "output_type": "stream",
          "name": "stdout",
          "text": [
            "Enter a number: 777\n",
            "777\n",
            "You win\n"
          ]
        }
      ]
    },
    {
      "cell_type": "code",
      "source": [
        "# accept marks, if marks>=80 print \"Distinction\", if between 60-80 print \"First class\",\n",
        "# if between 40-60 print \"Pass\", if less than 40 print\"Fail\"\n",
        "marks = int(input(\"Enter your marks: \"))\n",
        "if marks >= 80:\n",
        "  print(\"Distinction\")\n",
        "elif marks >= 60:\n",
        "  print(\"First Class\")\n",
        "elif marks >= 40:\n",
        "  print(\"Pass\")\n",
        "else:\n",
        "  print(\"Fail\")"
      ],
      "metadata": {
        "colab": {
          "base_uri": "https://localhost:8080/"
        },
        "id": "roKwpGaGqPVT",
        "outputId": "24900e85-d2ca-430c-8bd5-2c17f0f2a7fa"
      },
      "execution_count": null,
      "outputs": [
        {
          "output_type": "stream",
          "name": "stdout",
          "text": [
            "Enter your marks: 20\n",
            "Fail\n"
          ]
        }
      ]
    },
    {
      "cell_type": "markdown",
      "source": [
        "**For Loop**"
      ],
      "metadata": {
        "id": "C_uXiyYav7e2"
      }
    },
    {
      "cell_type": "code",
      "source": [
        "mrklist = [34,55,77,95,20]\n",
        "for marks in mrklist:\n",
        "  if marks >= 80:\n",
        "    print(marks, \"-->\",\"Distinction\")\n",
        "  elif marks >= 60:\n",
        "    print(marks, \"-->\",\"First Class\")\n",
        "  elif marks >= 40:\n",
        "    print(marks, \"-->\",\"Pass\")\n",
        "  else:\n",
        "    print(marks, \"-->\",\"Fail\")"
      ],
      "metadata": {
        "colab": {
          "base_uri": "https://localhost:8080/"
        },
        "id": "QOhBAtShv5vx",
        "outputId": "c6ab30ff-db29-4a84-c6a8-047f890aba17"
      },
      "execution_count": null,
      "outputs": [
        {
          "output_type": "stream",
          "name": "stdout",
          "text": [
            "34 --> Fail\n",
            "55 --> Pass\n",
            "77 --> First Class\n",
            "95 --> Distinction\n",
            "20 --> Fail\n"
          ]
        }
      ]
    },
    {
      "cell_type": "markdown",
      "source": [
        "**While loop**"
      ],
      "metadata": {
        "id": "BaNt6C4zv_kl"
      }
    },
    {
      "cell_type": "code",
      "source": [
        "# While loop: Print Hello for 5 times\n",
        "cnt = 0\n",
        "while cnt < 5:\n",
        "  print(\"Hello\")\n",
        "  cnt = cnt + 1\n"
      ],
      "metadata": {
        "colab": {
          "base_uri": "https://localhost:8080/"
        },
        "id": "13TfqNNhsItR",
        "outputId": "35034b48-1c34-4072-a8fe-88a95aef258f"
      },
      "execution_count": null,
      "outputs": [
        {
          "output_type": "stream",
          "name": "stdout",
          "text": [
            "Hello\n",
            "Hello\n",
            "Hello\n",
            "Hello\n",
            "Hello\n"
          ]
        }
      ]
    },
    {
      "cell_type": "markdown",
      "source": [
        "**Write user defined function**"
      ],
      "metadata": {
        "id": "n-iscPxiu5ai"
      }
    },
    {
      "cell_type": "code",
      "source": [
        "# Write a square function\n",
        "\n",
        "# Function Definition\n",
        "def square(x):\n",
        "  return x * x # or retrurn x**2"
      ],
      "metadata": {
        "id": "ZDR8kkV0sGMJ"
      },
      "execution_count": null,
      "outputs": []
    },
    {
      "cell_type": "code",
      "source": [
        "# Call a funciton\n",
        "square(9)"
      ],
      "metadata": {
        "colab": {
          "base_uri": "https://localhost:8080/"
        },
        "id": "xy6fvYaxvNDq",
        "outputId": "a9901abd-26ce-4b69-af4d-a8c1dcd90132"
      },
      "execution_count": null,
      "outputs": [
        {
          "output_type": "execute_result",
          "data": {
            "text/plain": [
              "81"
            ]
          },
          "metadata": {},
          "execution_count": 60
        }
      ]
    },
    {
      "cell_type": "code",
      "source": [
        "square(5)"
      ],
      "metadata": {
        "colab": {
          "base_uri": "https://localhost:8080/"
        },
        "id": "HWrltsfIqKeA",
        "outputId": "396bc534-2436-47ae-f09d-f8c6d9105e40"
      },
      "execution_count": null,
      "outputs": [
        {
          "output_type": "execute_result",
          "data": {
            "text/plain": [
              "25"
            ]
          },
          "metadata": {},
          "execution_count": 61
        }
      ]
    },
    {
      "cell_type": "code",
      "source": [
        "# write a function calc_grade(marks)\n",
        "def calc_grade(marks):\n",
        "    if marks >= 80:\n",
        "      grade = \"Distinction\"\n",
        "    elif marks >= 60:\n",
        "      grade = \"First Class\"\n",
        "    elif marks >= 40:\n",
        "      grade = \"Pass\"\n",
        "    else:\n",
        "      grade = \"Fail\"\n",
        "    return grade # it should be aligned with if"
      ],
      "metadata": {
        "id": "DZy2nqbMvWKa"
      },
      "execution_count": null,
      "outputs": []
    },
    {
      "cell_type": "code",
      "source": [
        "# Call the function\n",
        "calc_grade(10)"
      ],
      "metadata": {
        "colab": {
          "base_uri": "https://localhost:8080/",
          "height": 35
        },
        "id": "6iGC8EJxwppe",
        "outputId": "f8e777d3-1ea1-4367-f28e-6b86258f1bc5"
      },
      "execution_count": null,
      "outputs": [
        {
          "output_type": "execute_result",
          "data": {
            "text/plain": [
              "'Fail'"
            ],
            "application/vnd.google.colaboratory.intrinsic+json": {
              "type": "string"
            }
          },
          "metadata": {},
          "execution_count": 79
        }
      ]
    },
    {
      "cell_type": "code",
      "source": [],
      "metadata": {
        "id": "KOR5lURHvVep"
      },
      "execution_count": null,
      "outputs": []
    },
    {
      "cell_type": "code",
      "execution_count": null,
      "metadata": {
        "colab": {
          "base_uri": "https://localhost:8080/"
        },
        "id": "kBVW2QOVErr5",
        "outputId": "d4289eee-82c5-421d-f87c-3236a5285854"
      },
      "outputs": [
        {
          "output_type": "execute_result",
          "data": {
            "text/plain": [
              "['Mango', 'Apple', 'Banana', 'Pineapple', 'Custard Apple', 'Strawberry']"
            ]
          },
          "metadata": {},
          "execution_count": 62
        }
      ],
      "source": [
        "# List of Strings\n",
        "list3=[\"Mango\",\"Apple\",\"Banana\",\"Pineapple\",\"Custard Apple\",\"Strawberry\"]\n",
        "list3"
      ]
    },
    {
      "cell_type": "code",
      "execution_count": null,
      "metadata": {
        "colab": {
          "base_uri": "https://localhost:8080/"
        },
        "id": "AL3rNP5qUWeV",
        "outputId": "aca2b1a7-75e4-4e8c-c393-ccab9bbd300c"
      },
      "outputs": [
        {
          "output_type": "stream",
          "name": "stdout",
          "text": [
            "MANGO,APPLE,BANANA,PINEAPPLE,CUSTARD APPLE,STRAWBERRY,"
          ]
        }
      ],
      "source": [
        "# Display fruits by changing case of all fruits to uppercase\n",
        "for fruit in list3:\n",
        "  #print(fruit.upper()) # in sigle line: print(fruit.upper(),end=\" \")\n",
        "  print(fruit.upper(),end=\",\")\n",
        "  #print(fruit.replace(\"u\",\"a\"), end=\" \")"
      ]
    },
    {
      "cell_type": "code",
      "execution_count": null,
      "metadata": {
        "colab": {
          "base_uri": "https://localhost:8080/"
        },
        "id": "1GUY43V1UUIl",
        "outputId": "e559a159-7443-405e-e26e-5363e63d5a2a"
      },
      "outputs": [
        {
          "output_type": "execute_result",
          "data": {
            "text/plain": [
              "['Mango', 'Apple', 'Banana', 'Pineapple', 'Custard Apple', 'Strawberry']"
            ]
          },
          "metadata": {},
          "execution_count": 65
        }
      ],
      "source": [
        "# In Python Indexing starts with 0\n",
        "list3"
      ]
    },
    {
      "cell_type": "code",
      "execution_count": null,
      "metadata": {
        "colab": {
          "base_uri": "https://localhost:8080/",
          "height": 35
        },
        "id": "x2P9GeiCXMIa",
        "outputId": "dfdcc778-8421-4a22-abbc-5434a4c414b2"
      },
      "outputs": [
        {
          "output_type": "execute_result",
          "data": {
            "text/plain": [
              "'Pineapple'"
            ],
            "application/vnd.google.colaboratory.intrinsic+json": {
              "type": "string"
            }
          },
          "metadata": {},
          "execution_count": 66
        }
      ],
      "source": [
        "list3[3]"
      ]
    },
    {
      "cell_type": "code",
      "execution_count": null,
      "metadata": {
        "colab": {
          "base_uri": "https://localhost:8080/"
        },
        "id": "WSlB41hqAela",
        "outputId": "1d18cc04-092d-4c34-f238-d6b9a2a61a1a"
      },
      "outputs": [
        {
          "output_type": "execute_result",
          "data": {
            "text/plain": [
              "1"
            ]
          },
          "metadata": {},
          "execution_count": 67
        }
      ],
      "source": [
        "list3.count(\"Banana\")"
      ]
    },
    {
      "cell_type": "code",
      "execution_count": null,
      "metadata": {
        "colab": {
          "base_uri": "https://localhost:8080/",
          "height": 177
        },
        "id": "6WA4AbhbXR9m",
        "outputId": "c0f100b4-1905-4443-e460-0d6a148ef02f"
      },
      "outputs": [
        {
          "output_type": "error",
          "ename": "IndexError",
          "evalue": "list index out of range",
          "traceback": [
            "\u001b[0;31m---------------------------------------------------------------------------\u001b[0m",
            "\u001b[0;31mIndexError\u001b[0m                                Traceback (most recent call last)",
            "\u001b[0;32m<ipython-input-68-b13be8b32b63>\u001b[0m in \u001b[0;36m<cell line: 1>\u001b[0;34m()\u001b[0m\n\u001b[0;32m----> 1\u001b[0;31m \u001b[0mlist3\u001b[0m\u001b[0;34m[\u001b[0m\u001b[0;36m6\u001b[0m\u001b[0;34m]\u001b[0m \u001b[0;31m# raise error as index is upto 5 only (0 to 5)\u001b[0m\u001b[0;34m\u001b[0m\u001b[0;34m\u001b[0m\u001b[0m\n\u001b[0m",
            "\u001b[0;31mIndexError\u001b[0m: list index out of range"
          ]
        }
      ],
      "source": [
        "list3[6] # raise error as index is upto 5 only (0 to 5)"
      ]
    },
    {
      "cell_type": "code",
      "execution_count": null,
      "metadata": {
        "colab": {
          "base_uri": "https://localhost:8080/",
          "height": 35
        },
        "id": "0laOWZZZXV6W",
        "outputId": "dfab9d4f-35f0-4a37-96ce-c0c2fb7738c1"
      },
      "outputs": [
        {
          "output_type": "execute_result",
          "data": {
            "text/plain": [
              "'Strawberry'"
            ],
            "application/vnd.google.colaboratory.intrinsic+json": {
              "type": "string"
            }
          },
          "metadata": {},
          "execution_count": 69
        }
      ],
      "source": [
        "list3[5]"
      ]
    },
    {
      "cell_type": "code",
      "execution_count": null,
      "metadata": {
        "colab": {
          "base_uri": "https://localhost:8080/"
        },
        "id": "Ov2j6ljLXZqZ",
        "outputId": "57772fa7-1213-4443-d69b-e6be605f72d7"
      },
      "outputs": [
        {
          "output_type": "execute_result",
          "data": {
            "text/plain": [
              "['Mango', 'Apple', 'Banana', 'Pineapple']"
            ]
          },
          "metadata": {},
          "execution_count": 70
        }
      ],
      "source": [
        "# Slicing\n",
        "list3[0:4] # 0,1,2,3"
      ]
    },
    {
      "cell_type": "code",
      "execution_count": null,
      "metadata": {
        "colab": {
          "base_uri": "https://localhost:8080/"
        },
        "id": "I6eBALVZXlW_",
        "outputId": "0c545ceb-60d7-4aae-ccb5-c39801551cbf"
      },
      "outputs": [
        {
          "output_type": "execute_result",
          "data": {
            "text/plain": [
              "['Apple', 'Banana', 'Pineapple', 'Custard Apple', 'Strawberry']"
            ]
          },
          "metadata": {},
          "execution_count": 71
        }
      ],
      "source": [
        "# from Apple to Strawberry i.e. till end\n",
        "list3[1:]# or list3[1:6]"
      ]
    },
    {
      "cell_type": "code",
      "execution_count": null,
      "metadata": {
        "colab": {
          "base_uri": "https://localhost:8080/"
        },
        "id": "y7YIgcYxX1FP",
        "outputId": "3bec0b13-244a-43ab-88cf-95dba41af6fb"
      },
      "outputs": [
        {
          "output_type": "execute_result",
          "data": {
            "text/plain": [
              "['Mango', 'Apple', 'Banana', 'Pineapple']"
            ]
          },
          "metadata": {},
          "execution_count": 72
        }
      ],
      "source": [
        "# from beginning to Pinaapple\n",
        "list3[:4] # or  list3[0:4]"
      ]
    },
    {
      "cell_type": "code",
      "execution_count": null,
      "metadata": {
        "colab": {
          "base_uri": "https://localhost:8080/"
        },
        "id": "Dw4XFgPJ4dLB",
        "outputId": "713efa6e-1648-4678-bb9c-7161040dec7b"
      },
      "outputs": [
        {
          "output_type": "execute_result",
          "data": {
            "text/plain": [
              "['Mango', 'Apple', 'Banana', 'Pineapple', 'Custard Apple', 'Strawberry']"
            ]
          },
          "metadata": {},
          "execution_count": 73
        }
      ],
      "source": [
        "list3"
      ]
    },
    {
      "cell_type": "code",
      "execution_count": null,
      "metadata": {
        "colab": {
          "base_uri": "https://localhost:8080/",
          "height": 35
        },
        "id": "QERL4JsGYEDz",
        "outputId": "c16953ba-7334-40a6-9352-8099cc82b13a"
      },
      "outputs": [
        {
          "output_type": "execute_result",
          "data": {
            "text/plain": [
              "'Strawberry'"
            ],
            "application/vnd.google.colaboratory.intrinsic+json": {
              "type": "string"
            }
          },
          "metadata": {},
          "execution_count": 92
        }
      ],
      "source": [
        "# Negative indexing: -1 refers to last element\n",
        "list3[-1]"
      ]
    },
    {
      "cell_type": "code",
      "execution_count": null,
      "metadata": {
        "colab": {
          "base_uri": "https://localhost:8080/",
          "height": 36
        },
        "id": "x7XBCS4JZRxS",
        "outputId": "7d8fb158-402b-452f-87c8-c69ac3af952c"
      },
      "outputs": [
        {
          "output_type": "execute_result",
          "data": {
            "text/plain": [
              "'Pineapple'"
            ],
            "application/vnd.google.colaboratory.intrinsic+json": {
              "type": "string"
            }
          },
          "metadata": {},
          "execution_count": 75
        }
      ],
      "source": [
        "list3[-3]"
      ]
    },
    {
      "cell_type": "code",
      "execution_count": null,
      "metadata": {
        "colab": {
          "base_uri": "https://localhost:8080/",
          "height": 35
        },
        "id": "w9z5eUpZZaCg",
        "outputId": "ffa832cd-b3d4-44b2-8b4d-695d0bc8d1ea"
      },
      "outputs": [
        {
          "output_type": "execute_result",
          "data": {
            "text/plain": [
              "'Mango'"
            ],
            "application/vnd.google.colaboratory.intrinsic+json": {
              "type": "string"
            }
          },
          "metadata": {},
          "execution_count": 74
        }
      ],
      "source": [
        "list3[-6]"
      ]
    },
    {
      "cell_type": "code",
      "execution_count": null,
      "metadata": {
        "colab": {
          "base_uri": "https://localhost:8080/"
        },
        "id": "Tz1VKgvtZdLm",
        "outputId": "d677685b-ce9f-47bc-f768-887440f01bc5"
      },
      "outputs": [
        {
          "output_type": "stream",
          "name": "stdout",
          "text": [
            "['Mango', 'Apple', 'Banana', 'Pineapple', 'Custard Apple', 'Strawberry']\n"
          ]
        },
        {
          "output_type": "execute_result",
          "data": {
            "text/plain": [
              "['Mango', 'Banana', 'Custard Apple']"
            ]
          },
          "metadata": {},
          "execution_count": 75
        }
      ],
      "source": [
        "# start stop step in slicing\n",
        "print(list3)\n",
        "list3[::2] # 0,2,4"
      ]
    },
    {
      "cell_type": "code",
      "execution_count": null,
      "metadata": {
        "colab": {
          "base_uri": "https://localhost:8080/",
          "height": 142
        },
        "id": "LUEYKQ2CZ9cR",
        "outputId": "8b22630c-3607-4b4d-811c-86b376a35ad7"
      },
      "outputs": [
        {
          "output_type": "error",
          "ename": "SyntaxError",
          "evalue": "invalid syntax (<ipython-input-76-3da6388c3a68>, line 1)",
          "traceback": [
            "\u001b[0;36m  File \u001b[0;32m\"<ipython-input-76-3da6388c3a68>\"\u001b[0;36m, line \u001b[0;32m1\u001b[0m\n\u001b[0;31m    n1=[1:31] # to create list of 1 to 30 - will raise error\u001b[0m\n\u001b[0m         ^\u001b[0m\n\u001b[0;31mSyntaxError\u001b[0m\u001b[0;31m:\u001b[0m invalid syntax\n"
          ]
        }
      ],
      "source": [
        "n1=[1:31] # to create list of 1 to 30 - will raise error"
      ]
    },
    {
      "cell_type": "code",
      "execution_count": null,
      "metadata": {
        "colab": {
          "base_uri": "https://localhost:8080/"
        },
        "id": "T4UMw3k4Z6iQ",
        "outputId": "7194cb44-b60e-42bd-cbb6-4bba7da9ceb8"
      },
      "outputs": [
        {
          "output_type": "stream",
          "name": "stdout",
          "text": [
            "[1, 2, 3, 4, 5, 6, 7, 8, 9, 10, 11, 12, 13, 14, 15, 16, 17, 18, 19, 20, 21, 22, 23, 24, 25, 26, 27, 28, 29, 30]\n"
          ]
        }
      ],
      "source": [
        "n1=list(range(1,31))\n",
        "print(n1)"
      ]
    },
    {
      "cell_type": "code",
      "execution_count": null,
      "metadata": {
        "colab": {
          "base_uri": "https://localhost:8080/"
        },
        "id": "vH49BFyNawVw",
        "outputId": "a84f4980-bdae-4b14-d846-2369e0572b81"
      },
      "outputs": [
        {
          "output_type": "execute_result",
          "data": {
            "text/plain": [
              "[1, 5, 9, 13, 17, 21, 25, 29]"
            ]
          },
          "metadata": {},
          "execution_count": 78
        }
      ],
      "source": [
        "n1[::4]"
      ]
    },
    {
      "cell_type": "code",
      "execution_count": null,
      "metadata": {
        "colab": {
          "base_uri": "https://localhost:8080/"
        },
        "id": "UrCkKb1JZ1as",
        "outputId": "9d47b306-01d2-4896-f8cf-f1248af8f53d"
      },
      "outputs": [
        {
          "output_type": "execute_result",
          "data": {
            "text/plain": [
              "[3, 8, 13, 18, 23]"
            ]
          },
          "metadata": {},
          "execution_count": 79
        }
      ],
      "source": [
        "# print nos from index 2 to 26 with step value of 5\n",
        "n1[2:27:5]"
      ]
    },
    {
      "cell_type": "code",
      "execution_count": null,
      "metadata": {
        "colab": {
          "base_uri": "https://localhost:8080/"
        },
        "id": "UpCsfQp8cOWd",
        "outputId": "056e5119-a434-4826-b0a1-05ffcbadee34"
      },
      "outputs": [
        {
          "output_type": "stream",
          "name": "stdout",
          "text": [
            "['Mango', 'Apple', 'Banana', 'Pineapple', 'Custard Apple', 'Strawberry']\n"
          ]
        }
      ],
      "source": [
        "print(list3)\n"
      ]
    },
    {
      "cell_type": "code",
      "execution_count": null,
      "metadata": {
        "colab": {
          "base_uri": "https://localhost:8080/"
        },
        "id": "GokpJL8dcuJT",
        "outputId": "ab9b1566-ffe2-4e37-d684-9ab9e39b3765"
      },
      "outputs": [
        {
          "output_type": "execute_result",
          "data": {
            "text/plain": [
              "['Strawberry', 'Custard Apple', 'Pineapple', 'Banana', 'Apple', 'Mango']"
            ]
          },
          "metadata": {},
          "execution_count": 81
        }
      ],
      "source": [
        "list3[::-1]"
      ]
    },
    {
      "cell_type": "code",
      "execution_count": null,
      "metadata": {
        "colab": {
          "base_uri": "https://localhost:8080/"
        },
        "id": "Kej3UhFtcqtR",
        "outputId": "e72040fe-8b9c-4f69-80dd-1e8b8b9ee10a"
      },
      "outputs": [
        {
          "output_type": "execute_result",
          "data": {
            "text/plain": [
              "['Strawberry', 'Pineapple', 'Apple']"
            ]
          },
          "metadata": {},
          "execution_count": 101
        }
      ],
      "source": [
        "list3[::-2] # step value is -2"
      ]
    },
    {
      "cell_type": "code",
      "execution_count": null,
      "metadata": {
        "colab": {
          "base_uri": "https://localhost:8080/"
        },
        "id": "OJ5eZKHuc-6N",
        "outputId": "366a5aa9-90b6-4cc8-fa60-aa74100dee74"
      },
      "outputs": [
        {
          "output_type": "execute_result",
          "data": {
            "text/plain": [
              "True"
            ]
          },
          "metadata": {},
          "execution_count": 82
        }
      ],
      "source": [
        "# use of 'in' keyword: search substring in given word\n",
        "'the' in 'Netherland'"
      ]
    },
    {
      "cell_type": "code",
      "execution_count": null,
      "metadata": {
        "colab": {
          "base_uri": "https://localhost:8080/"
        },
        "id": "IU5Ee08ddWRN",
        "outputId": "2c1da2f7-b684-497e-affa-87869f85f6d1"
      },
      "outputs": [
        {
          "output_type": "execute_result",
          "data": {
            "text/plain": [
              "False"
            ]
          },
          "metadata": {},
          "execution_count": 83
        }
      ],
      "source": [
        "'The' in 'Netherland'"
      ]
    },
    {
      "cell_type": "code",
      "execution_count": null,
      "metadata": {
        "colab": {
          "base_uri": "https://localhost:8080/"
        },
        "id": "nEcpm867djRP",
        "outputId": "81961519-ac0a-473c-9bed-1019fdcfac07"
      },
      "outputs": [
        {
          "output_type": "execute_result",
          "data": {
            "text/plain": [
              "False"
            ]
          },
          "metadata": {},
          "execution_count": 104
        }
      ],
      "source": [
        "'therer' in 'Netherland'"
      ]
    },
    {
      "cell_type": "code",
      "execution_count": null,
      "metadata": {
        "colab": {
          "base_uri": "https://localhost:8080/"
        },
        "id": "vNGiEudpGx6t",
        "outputId": "fa75fbbc-92f6-4f0f-9322-43ba344fe6a2"
      },
      "outputs": [
        {
          "output_type": "execute_result",
          "data": {
            "text/plain": [
              "['Mango', 'Apple', 'Banana', 'Pineapple', 'Custard Apple', 'Strawberry']"
            ]
          },
          "metadata": {},
          "execution_count": 84
        }
      ],
      "source": [
        "list3"
      ]
    },
    {
      "cell_type": "code",
      "execution_count": null,
      "metadata": {
        "id": "u6srYCcIdqJ2"
      },
      "outputs": [],
      "source": [
        "list3.append(\"Mulberry\")"
      ]
    },
    {
      "cell_type": "code",
      "execution_count": null,
      "metadata": {
        "colab": {
          "base_uri": "https://localhost:8080/"
        },
        "id": "5-7_5S7ueVqB",
        "outputId": "18322ded-69cf-4d2a-88b2-822b6d8bf2db"
      },
      "outputs": [
        {
          "output_type": "execute_result",
          "data": {
            "text/plain": [
              "['Mango',\n",
              " 'Apple',\n",
              " 'Banana',\n",
              " 'Pineapple',\n",
              " 'Custard Apple',\n",
              " 'Strawberry',\n",
              " 'Mulberry']"
            ]
          },
          "metadata": {},
          "execution_count": 86
        }
      ],
      "source": [
        "list3"
      ]
    },
    {
      "cell_type": "code",
      "execution_count": null,
      "metadata": {
        "id": "U-Yf415Ny1rK"
      },
      "outputs": [],
      "source": [
        "list3.remove(\"Mulberry\") # removes mentioned element"
      ]
    },
    {
      "cell_type": "code",
      "execution_count": null,
      "metadata": {
        "colab": {
          "base_uri": "https://localhost:8080/"
        },
        "id": "LQ5Ut9UMBrBj",
        "outputId": "e34327bf-dc58-4a2e-e83a-eea91cdcbca4"
      },
      "outputs": [
        {
          "output_type": "execute_result",
          "data": {
            "text/plain": [
              "['Mango', 'Apple', 'Banana', 'Pineapple', 'Custard Apple', 'Strawberry']"
            ]
          },
          "metadata": {},
          "execution_count": 88
        }
      ],
      "source": [
        "list3"
      ]
    },
    {
      "cell_type": "code",
      "execution_count": null,
      "metadata": {
        "colab": {
          "base_uri": "https://localhost:8080/"
        },
        "id": "R0zZp8HfeW-e",
        "outputId": "36a738a9-7a8a-4f22-a3ab-86a22327bdd4"
      },
      "outputs": [
        {
          "output_type": "stream",
          "name": "stdout",
          "text": [
            "Strawberry\n"
          ]
        }
      ],
      "source": [
        "# display fruits which contain substring as 'berry' using for loop\n",
        "for fruit in list3:\n",
        "  if 'berry' in fruit:\n",
        "    print(fruit)"
      ]
    },
    {
      "cell_type": "code",
      "execution_count": null,
      "metadata": {
        "colab": {
          "base_uri": "https://localhost:8080/"
        },
        "id": "1i7vB6yYfKxZ",
        "outputId": "d74d3b64-e7c1-4fc3-c360-f6bda56fae90"
      },
      "outputs": [
        {
          "output_type": "stream",
          "name": "stdout",
          "text": [
            "Apple\n",
            "Pineapple\n",
            "Custard Apple\n"
          ]
        }
      ],
      "source": [
        "# display fruits which contain substring as 'pple' using for loop\n",
        "for fruit in list3:\n",
        "  if 'pple' in fruit:\n",
        "    print(fruit)"
      ]
    },
    {
      "cell_type": "code",
      "execution_count": null,
      "metadata": {
        "id": "5qIfPsvPfHNf"
      },
      "outputs": [],
      "source": [
        "list3.append(\"Black berry\")"
      ]
    },
    {
      "cell_type": "code",
      "execution_count": null,
      "metadata": {
        "colab": {
          "base_uri": "https://localhost:8080/"
        },
        "id": "MW7mGJk7enpN",
        "outputId": "16021dbf-977c-4b63-9edb-ae1f77cc3cdc"
      },
      "outputs": [
        {
          "output_type": "execute_result",
          "data": {
            "text/plain": [
              "['Mango',\n",
              " 'Apple',\n",
              " 'Banana',\n",
              " 'Pineapple',\n",
              " 'Custard Apple',\n",
              " 'Strawberry',\n",
              " 'Black berry']"
            ]
          },
          "metadata": {},
          "execution_count": 93
        }
      ],
      "source": [
        "list3"
      ]
    },
    {
      "cell_type": "code",
      "execution_count": null,
      "metadata": {
        "colab": {
          "base_uri": "https://localhost:8080/"
        },
        "id": "xIV38s0lf0EQ",
        "outputId": "11721152-25ed-4dbe-dfde-198997cd355e"
      },
      "outputs": [
        {
          "output_type": "stream",
          "name": "stdout",
          "text": [
            "['Strawberry', 'Black berry'] ['Mango', 'Apple', 'Banana', 'Pineapple', 'Custard Apple'] "
          ]
        }
      ],
      "source": [
        "# Create list4 of fruits from list3 having only 'berry' as substring and store remaining fruits in list5\n",
        "list4=[]\n",
        "list5=[]\n",
        "for fruit in list3:\n",
        "  if 'berry' in fruit:\n",
        "    list4.append(fruit)\n",
        "  else:\n",
        "    list5.append(fruit)\n",
        "print(list4,end=\" \")\n",
        "print(list5,end=\" \")"
      ]
    },
    {
      "cell_type": "code",
      "execution_count": null,
      "metadata": {
        "colab": {
          "base_uri": "https://localhost:8080/"
        },
        "id": "PEiZbu43ekl6",
        "outputId": "b989f484-1632-4e9e-a9bc-d20c944c642b"
      },
      "outputs": [
        {
          "output_type": "stream",
          "name": "stdout",
          "text": [
            "[2, 3, 4, 5, 6] [4, 9, 16, 25, 36] "
          ]
        }
      ],
      "source": [
        "# print squares of all numbers of list1 to list2\n",
        "l1=[2,3,4,5,6]\n",
        "l2=[]\n",
        "for i in l1:\n",
        "  l2.append(i**2) # OR l2.append(i*i)\n",
        "print(l1,end=\" \")\n",
        "print(l2,end=\" \")"
      ]
    },
    {
      "cell_type": "code",
      "execution_count": null,
      "metadata": {
        "colab": {
          "base_uri": "https://localhost:8080/"
        },
        "id": "61IYUBgkjkjY",
        "outputId": "fe55199f-4970-45d2-ce47-8abc39bfb63c"
      },
      "outputs": [
        {
          "output_type": "stream",
          "name": "stdout",
          "text": [
            "[2, 3, 4, 5, 6] [4, 9, 16, 25, 36] "
          ]
        }
      ],
      "source": [
        "# List comprehension - makes your code compact\n",
        "l1=[2,3,4,5,6]\n",
        "l2=[i**2 for i in l1]\n",
        "print(l1,end=\" \")\n",
        "print(l2,end=\" \")"
      ]
    },
    {
      "cell_type": "code",
      "execution_count": null,
      "metadata": {
        "id": "rX-2WBZSA3Ih",
        "colab": {
          "base_uri": "https://localhost:8080/"
        },
        "outputId": "71f64352-2d45-461c-b7b7-f17069bc086e"
      },
      "outputs": [
        {
          "output_type": "execute_result",
          "data": {
            "text/plain": [
              "['Mango',\n",
              " 'Apple',\n",
              " 'Banana',\n",
              " 'Pineapple',\n",
              " 'Custard Apple',\n",
              " 'Strawberry',\n",
              " 'Black berry']"
            ]
          },
          "metadata": {},
          "execution_count": 95
        }
      ],
      "source": [
        "list3\n",
        "#list3.append(\"Black berry\")"
      ]
    },
    {
      "cell_type": "code",
      "execution_count": null,
      "metadata": {
        "colab": {
          "base_uri": "https://localhost:8080/"
        },
        "id": "qnve8eWalJrv",
        "outputId": "1ac28450-e9a9-4d46-b8bd-b4688481c699"
      },
      "outputs": [
        {
          "data": {
            "text/plain": [
              "['Mango',\n",
              " 'Apple',\n",
              " 'Banana',\n",
              " 'Pineapple',\n",
              " 'Custard Apple',\n",
              " 'Strawberry',\n",
              " 'Black berry']"
            ]
          },
          "execution_count": 25,
          "metadata": {},
          "output_type": "execute_result"
        }
      ],
      "source": [
        "# extract fruit names containing substring 'berry' using List comprehension\n",
        "list3"
      ]
    },
    {
      "cell_type": "code",
      "execution_count": null,
      "metadata": {
        "id": "vnd_eAJDlfxr"
      },
      "outputs": [],
      "source": [
        "newlist=[fruit for fruit in list3 if 'berry' in fruit]"
      ]
    },
    {
      "cell_type": "code",
      "execution_count": null,
      "metadata": {
        "colab": {
          "base_uri": "https://localhost:8080/"
        },
        "id": "M9qF_R8b1o4H",
        "outputId": "6a9f12e1-9f4e-41f3-db22-299672d9fd1d"
      },
      "outputs": [
        {
          "output_type": "execute_result",
          "data": {
            "text/plain": [
              "['Strawberry', 'Black berry']"
            ]
          },
          "metadata": {},
          "execution_count": 16
        }
      ],
      "source": [
        "newlist"
      ]
    },
    {
      "cell_type": "code",
      "execution_count": null,
      "metadata": {
        "id": "hW0X5-MNlF52"
      },
      "outputs": [],
      "source": [
        "newlist1=[fruit for fruit in list3 if 'berry' not in fruit]"
      ]
    },
    {
      "cell_type": "code",
      "execution_count": null,
      "metadata": {
        "colab": {
          "base_uri": "https://localhost:8080/"
        },
        "id": "qVQfzwqG2_Dl",
        "outputId": "b044ec22-ca2b-48e4-d2ce-6dc4dacaaef0"
      },
      "outputs": [
        {
          "output_type": "execute_result",
          "data": {
            "text/plain": [
              "['Mango', 'Apple', 'Banana', 'Pineapple', 'Custard Apple']"
            ]
          },
          "metadata": {},
          "execution_count": 18
        }
      ],
      "source": [
        "newlist1"
      ]
    },
    {
      "cell_type": "code",
      "execution_count": null,
      "metadata": {
        "id": "fpSUoWeSuz0a"
      },
      "outputs": [],
      "source": [
        "city=[\"Pune\",\"Mumbai\",\"Satara\",\"Thane\",\"Solapur\",\"Kolhapur\"]"
      ]
    },
    {
      "cell_type": "code",
      "execution_count": null,
      "metadata": {
        "id": "Auf1hCjNuz3T"
      },
      "outputs": [],
      "source": [
        "newlistpur=[i for i in city if \"pur\" not in i]"
      ]
    },
    {
      "cell_type": "code",
      "execution_count": null,
      "metadata": {
        "colab": {
          "base_uri": "https://localhost:8080/"
        },
        "id": "ygrQuC2Juz6i",
        "outputId": "1eca0e25-060b-4aff-e153-f7c388cd8603"
      },
      "outputs": [
        {
          "output_type": "execute_result",
          "data": {
            "text/plain": [
              "['Pune', 'Mumbai', 'Satara', 'Thane']"
            ]
          },
          "metadata": {},
          "execution_count": 21
        }
      ],
      "source": [
        "newlistpur"
      ]
    },
    {
      "cell_type": "code",
      "execution_count": null,
      "metadata": {
        "id": "N_6DYeMm3ai0",
        "colab": {
          "base_uri": "https://localhost:8080/"
        },
        "outputId": "1987aaba-cbf9-4c69-dd9a-d8c7950a2761"
      },
      "outputs": [
        {
          "output_type": "execute_result",
          "data": {
            "text/plain": [
              "['Mango',\n",
              " 'Apple',\n",
              " 'Banana',\n",
              " 'Pineapple',\n",
              " 'Custard Apple',\n",
              " 'Strawberry',\n",
              " 'Black berry']"
            ]
          },
          "metadata": {},
          "execution_count": 96
        }
      ],
      "source": [
        "list3"
      ]
    },
    {
      "cell_type": "code",
      "execution_count": null,
      "metadata": {
        "colab": {
          "base_uri": "https://localhost:8080/"
        },
        "id": "Li3-y6rx3dwT",
        "outputId": "750a9e94-d017-4f79-ba28-5ba78f8c4c63"
      },
      "outputs": [
        {
          "output_type": "execute_result",
          "data": {
            "text/plain": [
              "5"
            ]
          },
          "metadata": {},
          "execution_count": 97
        }
      ],
      "source": [
        "list3.index('Strawberry')"
      ]
    },
    {
      "cell_type": "code",
      "execution_count": null,
      "metadata": {
        "colab": {
          "base_uri": "https://localhost:8080/"
        },
        "id": "APfx0HAZ4jt6",
        "outputId": "e8d1c391-50cb-497d-d576-e6604acfc1f9"
      },
      "outputs": [
        {
          "output_type": "execute_result",
          "data": {
            "text/plain": [
              "6"
            ]
          },
          "metadata": {},
          "execution_count": 98
        }
      ],
      "source": [
        "list3.index('Black berry')"
      ]
    },
    {
      "cell_type": "code",
      "execution_count": null,
      "metadata": {
        "id": "aFp1u4Ur4tbH",
        "colab": {
          "base_uri": "https://localhost:8080/",
          "height": 177
        },
        "outputId": "88c5a67a-7525-4775-a1aa-82ab0ee65ad1"
      },
      "outputs": [
        {
          "output_type": "error",
          "ename": "ValueError",
          "evalue": "'Orange' is not in list",
          "traceback": [
            "\u001b[0;31m---------------------------------------------------------------------------\u001b[0m",
            "\u001b[0;31mValueError\u001b[0m                                Traceback (most recent call last)",
            "\u001b[0;32m<ipython-input-99-4baf18b3f385>\u001b[0m in \u001b[0;36m<cell line: 1>\u001b[0;34m()\u001b[0m\n\u001b[0;32m----> 1\u001b[0;31m \u001b[0mlist3\u001b[0m\u001b[0;34m.\u001b[0m\u001b[0mindex\u001b[0m\u001b[0;34m(\u001b[0m\u001b[0;34m'Orange'\u001b[0m\u001b[0;34m)\u001b[0m \u001b[0;31m# will raise error as item is not present in the list\u001b[0m\u001b[0;34m\u001b[0m\u001b[0;34m\u001b[0m\u001b[0m\n\u001b[0m",
            "\u001b[0;31mValueError\u001b[0m: 'Orange' is not in list"
          ]
        }
      ],
      "source": [
        "list3.index('Orange') # will raise error as item is not present in the list"
      ]
    },
    {
      "cell_type": "code",
      "execution_count": null,
      "metadata": {
        "colab": {
          "base_uri": "https://localhost:8080/"
        },
        "id": "yuQAiBajRQVt",
        "outputId": "d8e6c971-6aea-4352-de29-c0547bfa711a"
      },
      "outputs": [
        {
          "output_type": "stream",
          "name": "stdout",
          "text": [
            "['Mango', 'Apple', 'Banana', 'Pineapple', 'Custard Apple', 'Strawberry', 'Black berry'] "
          ]
        }
      ],
      "source": [
        "print(list3,end=\" \")"
      ]
    },
    {
      "cell_type": "code",
      "execution_count": null,
      "metadata": {
        "id": "R8dOOEuO4yFq",
        "colab": {
          "base_uri": "https://localhost:8080/"
        },
        "outputId": "9f390d58-c511-44be-83c5-82c67cce0568"
      },
      "outputs": [
        {
          "output_type": "execute_result",
          "data": {
            "text/plain": [
              "['Mango',\n",
              " 'Apple',\n",
              " 'Orange',\n",
              " 'Pineapple',\n",
              " 'Custard Apple',\n",
              " 'Strawberry',\n",
              " 'Black berry']"
            ]
          },
          "metadata": {},
          "execution_count": 101
        }
      ],
      "source": [
        "# index 2 item was banana which is replaced by Orange\n",
        "# Lists are mutable - you can replace items of list\n",
        "list3[2]=\"Orange\"\n",
        "list3"
      ]
    },
    {
      "cell_type": "code",
      "execution_count": null,
      "metadata": {
        "colab": {
          "base_uri": "https://localhost:8080/"
        },
        "id": "XbF8Y7lL5JAL",
        "outputId": "bfe1f1f1-b9d6-449f-b655-e9461954feca"
      },
      "outputs": [
        {
          "output_type": "execute_result",
          "data": {
            "text/plain": [
              "(1, 2, 3, 4, 5)"
            ]
          },
          "metadata": {},
          "execution_count": 1
        }
      ],
      "source": [
        "# Data Structure: 2.TUPLE\n",
        "# Tuples are not mutable i.e. immutable\n",
        "# created using round brackets ()\n",
        "t1=(1,2,3,4,5)\n",
        "t1"
      ]
    },
    {
      "cell_type": "code",
      "execution_count": null,
      "metadata": {
        "colab": {
          "base_uri": "https://localhost:8080/"
        },
        "id": "Xp2nKkmU6sQs",
        "outputId": "859cfb1d-0509-4910-c523-d6b722300446"
      },
      "outputs": [
        {
          "output_type": "execute_result",
          "data": {
            "text/plain": [
              "tuple"
            ]
          },
          "metadata": {},
          "execution_count": 2
        }
      ],
      "source": [
        "type(t1)"
      ]
    },
    {
      "cell_type": "code",
      "execution_count": null,
      "metadata": {
        "colab": {
          "base_uri": "https://localhost:8080/"
        },
        "id": "-eFR4gnk6t9e",
        "outputId": "4a8573b8-b5de-4fa6-db7f-f3c0823fd170"
      },
      "outputs": [
        {
          "output_type": "execute_result",
          "data": {
            "text/plain": [
              "1"
            ]
          },
          "metadata": {},
          "execution_count": 3
        }
      ],
      "source": [
        "t1[0]"
      ]
    },
    {
      "cell_type": "code",
      "execution_count": null,
      "metadata": {
        "id": "SY5hsxbJ6yLH",
        "colab": {
          "base_uri": "https://localhost:8080/",
          "height": 177
        },
        "outputId": "8f97ab47-16ec-4382-b1bd-c546bdf0c1a8"
      },
      "outputs": [
        {
          "output_type": "error",
          "ename": "TypeError",
          "evalue": "'tuple' object does not support item assignment",
          "traceback": [
            "\u001b[0;31m---------------------------------------------------------------------------\u001b[0m",
            "\u001b[0;31mTypeError\u001b[0m                                 Traceback (most recent call last)",
            "\u001b[0;32m<ipython-input-4-952ef345214b>\u001b[0m in \u001b[0;36m<cell line: 1>\u001b[0;34m()\u001b[0m\n\u001b[0;32m----> 1\u001b[0;31m \u001b[0mt1\u001b[0m\u001b[0;34m[\u001b[0m\u001b[0;36m0\u001b[0m\u001b[0;34m]\u001b[0m\u001b[0;34m=\u001b[0m\u001b[0;36m7\u001b[0m \u001b[0;31m# will raise an error as tuples are immutable\u001b[0m\u001b[0;34m\u001b[0m\u001b[0;34m\u001b[0m\u001b[0m\n\u001b[0m",
            "\u001b[0;31mTypeError\u001b[0m: 'tuple' object does not support item assignment"
          ]
        }
      ],
      "source": [
        "t1[0]=7 # will raise an error as tuples are immutable"
      ]
    },
    {
      "cell_type": "code",
      "execution_count": null,
      "metadata": {
        "id": "TL88JA__-f5Y"
      },
      "outputs": [],
      "source": [
        "t3=t1 + (6,7,8,9,10)"
      ]
    },
    {
      "cell_type": "code",
      "execution_count": null,
      "metadata": {
        "colab": {
          "base_uri": "https://localhost:8080/"
        },
        "id": "VxbS1rWQ-5cq",
        "outputId": "8b5e6c55-3c18-4f34-ca9e-8134dd609a4f"
      },
      "outputs": [
        {
          "output_type": "execute_result",
          "data": {
            "text/plain": [
              "(1, 2, 3, 4, 5, 6, 7, 8, 9, 10)"
            ]
          },
          "metadata": {},
          "execution_count": 6
        }
      ],
      "source": [
        "t3"
      ]
    },
    {
      "cell_type": "code",
      "execution_count": null,
      "metadata": {
        "id": "gJYlfk5861Ft",
        "colab": {
          "base_uri": "https://localhost:8080/"
        },
        "outputId": "a521c96e-f120-474e-a7aa-79694d8114d7"
      },
      "outputs": [
        {
          "output_type": "execute_result",
          "data": {
            "text/plain": [
              "['__add__',\n",
              " '__class__',\n",
              " '__class_getitem__',\n",
              " '__contains__',\n",
              " '__delattr__',\n",
              " '__dir__',\n",
              " '__doc__',\n",
              " '__eq__',\n",
              " '__format__',\n",
              " '__ge__',\n",
              " '__getattribute__',\n",
              " '__getitem__',\n",
              " '__getnewargs__',\n",
              " '__gt__',\n",
              " '__hash__',\n",
              " '__init__',\n",
              " '__init_subclass__',\n",
              " '__iter__',\n",
              " '__le__',\n",
              " '__len__',\n",
              " '__lt__',\n",
              " '__mul__',\n",
              " '__ne__',\n",
              " '__new__',\n",
              " '__reduce__',\n",
              " '__reduce_ex__',\n",
              " '__repr__',\n",
              " '__rmul__',\n",
              " '__setattr__',\n",
              " '__sizeof__',\n",
              " '__str__',\n",
              " '__subclasshook__',\n",
              " 'count',\n",
              " 'index']"
            ]
          },
          "metadata": {},
          "execution_count": 7
        }
      ],
      "source": [
        "dir(t1)"
      ]
    },
    {
      "cell_type": "code",
      "execution_count": null,
      "metadata": {
        "colab": {
          "base_uri": "https://localhost:8080/"
        },
        "id": "ecMTsS4NTzuJ",
        "outputId": "7b440dad-141f-4784-895e-f91259542d27"
      },
      "outputs": [
        {
          "output_type": "execute_result",
          "data": {
            "text/plain": [
              "(1, 2, 3, 4, 5)"
            ]
          },
          "metadata": {},
          "execution_count": 8
        }
      ],
      "source": [
        "t1"
      ]
    },
    {
      "cell_type": "code",
      "execution_count": null,
      "metadata": {
        "colab": {
          "base_uri": "https://localhost:8080/"
        },
        "id": "DRz7V1Y34nja",
        "outputId": "0bfd3545-6843-4022-9559-0f213610fdc1"
      },
      "outputs": [
        {
          "output_type": "execute_result",
          "data": {
            "text/plain": [
              "1"
            ]
          },
          "metadata": {},
          "execution_count": 9
        }
      ],
      "source": [
        "t1.count(5)# in bracket we have passed an element of tuple (not the index)"
      ]
    },
    {
      "cell_type": "code",
      "execution_count": null,
      "metadata": {
        "colab": {
          "base_uri": "https://localhost:8080/"
        },
        "id": "8G8WMapY7nxw",
        "outputId": "81ea0b5e-e723-4344-d56a-f23d4270361c"
      },
      "outputs": [
        {
          "output_type": "execute_result",
          "data": {
            "text/plain": [
              "3"
            ]
          },
          "metadata": {},
          "execution_count": 10
        }
      ],
      "source": [
        "t1.index(4) # in bracket we have passed an element of tuple (not the index)"
      ]
    },
    {
      "cell_type": "code",
      "execution_count": null,
      "metadata": {
        "id": "9FoAjOJq7qlz"
      },
      "outputs": [],
      "source": [
        "t2=(1,1,1,2,2,6,6,6,7,6,6,7)"
      ]
    },
    {
      "cell_type": "code",
      "source": [
        "t2.index(6)"
      ],
      "metadata": {
        "colab": {
          "base_uri": "https://localhost:8080/"
        },
        "id": "pavhETrqcg0W",
        "outputId": "dc788b60-4ecd-4744-aab5-80a6f1659475"
      },
      "execution_count": null,
      "outputs": [
        {
          "output_type": "execute_result",
          "data": {
            "text/plain": [
              "5"
            ]
          },
          "metadata": {},
          "execution_count": 12
        }
      ]
    },
    {
      "cell_type": "code",
      "execution_count": null,
      "metadata": {
        "colab": {
          "base_uri": "https://localhost:8080/"
        },
        "id": "juwVU_vX71VB",
        "outputId": "2a922af6-5251-45e9-8fba-99130a58ccd3"
      },
      "outputs": [
        {
          "output_type": "execute_result",
          "data": {
            "text/plain": [
              "5"
            ]
          },
          "metadata": {},
          "execution_count": 13
        }
      ],
      "source": [
        "t2.count(6)"
      ]
    },
    {
      "cell_type": "code",
      "execution_count": null,
      "metadata": {
        "colab": {
          "base_uri": "https://localhost:8080/"
        },
        "id": "mB02kt4v73Bd",
        "outputId": "b5302f04-670c-4207-b95a-e9c336abdf4e"
      },
      "outputs": [
        {
          "output_type": "execute_result",
          "data": {
            "text/plain": [
              "3"
            ]
          },
          "metadata": {},
          "execution_count": 38
        }
      ],
      "source": [
        "# indexing and slicing with tuple is same as list\n",
        "# extracting elements of tuple\n",
        "t1[2]"
      ]
    },
    {
      "cell_type": "code",
      "execution_count": null,
      "metadata": {
        "colab": {
          "base_uri": "https://localhost:8080/"
        },
        "id": "9vl8CB4lFV1D",
        "outputId": "2b291874-76ed-48d7-f0a7-89ecf22db9b7"
      },
      "outputs": [
        {
          "output_type": "execute_result",
          "data": {
            "text/plain": [
              "(1, 2, 3, 4, 5)"
            ]
          },
          "metadata": {},
          "execution_count": 14
        }
      ],
      "source": [
        "t1"
      ]
    },
    {
      "cell_type": "code",
      "execution_count": null,
      "metadata": {
        "colab": {
          "base_uri": "https://localhost:8080/"
        },
        "id": "wYtrwBa38S4G",
        "outputId": "3d8f5efa-d29e-420b-a48a-8313bef36af2"
      },
      "outputs": [
        {
          "output_type": "execute_result",
          "data": {
            "text/plain": [
              "(2, 3, 4, 5)"
            ]
          },
          "metadata": {},
          "execution_count": 15
        }
      ],
      "source": [
        "t1[1:5]"
      ]
    },
    {
      "cell_type": "code",
      "execution_count": null,
      "metadata": {
        "colab": {
          "base_uri": "https://localhost:8080/"
        },
        "id": "6rwC0ji01Y92",
        "outputId": "6447ce1e-e55b-44d1-8dd4-9803128a653d"
      },
      "outputs": [
        {
          "output_type": "execute_result",
          "data": {
            "text/plain": [
              "(4, 5)"
            ]
          },
          "metadata": {},
          "execution_count": 16
        }
      ],
      "source": [
        "t1[3:]"
      ]
    },
    {
      "cell_type": "code",
      "execution_count": null,
      "metadata": {
        "colab": {
          "base_uri": "https://localhost:8080/"
        },
        "id": "SRE7DEwm8Wa7",
        "outputId": "9e97143f-df60-46a7-e989-85c0cd9b42d3"
      },
      "outputs": [
        {
          "output_type": "stream",
          "name": "stdout",
          "text": [
            "{'Nepal': 'Kathmandu', 'Italy': 'Rome', 'England': 'London'}\n"
          ]
        }
      ],
      "source": [
        "# Data Structure: 3.Dictionary\n",
        "# Dictionaries are used to store data values in \"key:value pairs\".\n",
        "# A dictionary is a collection which is ordered, changeable and do not allow duplicates.\n",
        "# Dictionaries are written with curly brackets {\"Key\":\"Value\"}, and have keys and values.\n",
        "# Here, keys are unique identifiers that are associated with each value.:\n",
        "\n",
        "capital_dict={\"Nepal\": \"Kathmandu\", \"Italy\": \"Rome\", \"England\": \"London\"}\n",
        "print(capital_dict)"
      ]
    },
    {
      "cell_type": "code",
      "execution_count": null,
      "metadata": {
        "colab": {
          "base_uri": "https://localhost:8080/"
        },
        "id": "9K5br31fWsBP",
        "outputId": "39c5c56b-4626-4d56-d6fb-849720893a72"
      },
      "outputs": [
        {
          "output_type": "execute_result",
          "data": {
            "text/plain": [
              "dict"
            ]
          },
          "metadata": {},
          "execution_count": 18
        }
      ],
      "source": [
        "type(capital_dict)"
      ]
    },
    {
      "cell_type": "code",
      "execution_count": null,
      "metadata": {
        "id": "HajKAlS2XQJa",
        "colab": {
          "base_uri": "https://localhost:8080/"
        },
        "outputId": "7b744b1e-cfed-4506-adb8-cfabea87db0b"
      },
      "outputs": [
        {
          "output_type": "execute_result",
          "data": {
            "text/plain": [
              "['__class__',\n",
              " '__class_getitem__',\n",
              " '__contains__',\n",
              " '__delattr__',\n",
              " '__delitem__',\n",
              " '__dir__',\n",
              " '__doc__',\n",
              " '__eq__',\n",
              " '__format__',\n",
              " '__ge__',\n",
              " '__getattribute__',\n",
              " '__getitem__',\n",
              " '__gt__',\n",
              " '__hash__',\n",
              " '__init__',\n",
              " '__init_subclass__',\n",
              " '__ior__',\n",
              " '__iter__',\n",
              " '__le__',\n",
              " '__len__',\n",
              " '__lt__',\n",
              " '__ne__',\n",
              " '__new__',\n",
              " '__or__',\n",
              " '__reduce__',\n",
              " '__reduce_ex__',\n",
              " '__repr__',\n",
              " '__reversed__',\n",
              " '__ror__',\n",
              " '__setattr__',\n",
              " '__setitem__',\n",
              " '__sizeof__',\n",
              " '__str__',\n",
              " '__subclasshook__',\n",
              " 'clear',\n",
              " 'copy',\n",
              " 'fromkeys',\n",
              " 'get',\n",
              " 'items',\n",
              " 'keys',\n",
              " 'pop',\n",
              " 'popitem',\n",
              " 'setdefault',\n",
              " 'update',\n",
              " 'values']"
            ]
          },
          "metadata": {},
          "execution_count": 19
        }
      ],
      "source": [
        "dir(capital_dict) # or dir(dict)"
      ]
    },
    {
      "cell_type": "code",
      "execution_count": null,
      "metadata": {
        "colab": {
          "base_uri": "https://localhost:8080/",
          "height": 35
        },
        "id": "3-IUngWH7tda",
        "outputId": "386c4991-5b59-45b2-c2e8-0e3c6551b729"
      },
      "outputs": [
        {
          "output_type": "execute_result",
          "data": {
            "text/plain": [
              "'London'"
            ],
            "application/vnd.google.colaboratory.intrinsic+json": {
              "type": "string"
            }
          },
          "metadata": {},
          "execution_count": 20
        }
      ],
      "source": [
        "# access element of dictionary\n",
        "capital_dict[\"England\"]"
      ]
    },
    {
      "cell_type": "code",
      "execution_count": null,
      "metadata": {
        "colab": {
          "base_uri": "https://localhost:8080/"
        },
        "id": "2hpTBWjF7YCN",
        "outputId": "4b59125c-d26d-4c2b-e81d-6296024b7049"
      },
      "outputs": [
        {
          "output_type": "execute_result",
          "data": {
            "text/plain": [
              "dict_keys(['Nepal', 'Italy', 'England'])"
            ]
          },
          "metadata": {},
          "execution_count": 21
        }
      ],
      "source": [
        "# keys() method extracts the keys of the dictionary and returns the list of keys as a view object.\n",
        "keys=capital_dict.keys()\n",
        "keys"
      ]
    },
    {
      "cell_type": "code",
      "execution_count": null,
      "metadata": {
        "colab": {
          "base_uri": "https://localhost:8080/"
        },
        "id": "Gtu4Trl73idJ",
        "outputId": "adc17463-ee1d-41ee-ae91-234151f47321"
      },
      "outputs": [
        {
          "output_type": "execute_result",
          "data": {
            "text/plain": [
              "dict_keys(['Nepal', 'Italy', 'England'])"
            ]
          },
          "metadata": {},
          "execution_count": 22
        }
      ],
      "source": [
        "capital_dict.keys()"
      ]
    },
    {
      "cell_type": "code",
      "execution_count": null,
      "metadata": {
        "colab": {
          "base_uri": "https://localhost:8080/"
        },
        "id": "wF0P6FzRYMT6",
        "outputId": "780a6f59-669e-42d9-9a27-5fb70bfdb21f"
      },
      "outputs": [
        {
          "output_type": "execute_result",
          "data": {
            "text/plain": [
              "dict_values(['Kathmandu', 'Rome', 'London'])"
            ]
          },
          "metadata": {},
          "execution_count": 23
        }
      ],
      "source": [
        "# The values() method returns a view object that displays a list of all the values in the dictionary.\n",
        "values=capital_dict.values()\n",
        "values"
      ]
    },
    {
      "cell_type": "code",
      "execution_count": null,
      "metadata": {
        "colab": {
          "base_uri": "https://localhost:8080/"
        },
        "id": "wX37zQVRYU8g",
        "outputId": "becc869f-af15-4b34-92a1-3a85d04fb816"
      },
      "outputs": [
        {
          "output_type": "execute_result",
          "data": {
            "text/plain": [
              "dict_items([('Nepal', 'Kathmandu'), ('Italy', 'Rome'), ('England', 'London')])"
            ]
          },
          "metadata": {},
          "execution_count": 24
        }
      ],
      "source": [
        "# The items() method returns a view object that displays a list of dictionary's (key, value) tuple pairs.\n",
        "items=capital_dict.items()\n",
        "items"
      ]
    },
    {
      "cell_type": "code",
      "execution_count": null,
      "metadata": {
        "id": "XvBTzNlbYol1"
      },
      "outputs": [],
      "source": [
        "# The update() method updates the dictionary with the elements from another dictionary object or from an iterable of key/value pairs.\n",
        "add_capital={\"India\": \"New Delhi\",\"abc\":\"xyz\"}\n",
        "capital_dict.update(add_capital)"
      ]
    },
    {
      "cell_type": "code",
      "execution_count": null,
      "metadata": {
        "id": "Y6GKnzNWZj1X",
        "colab": {
          "base_uri": "https://localhost:8080/"
        },
        "outputId": "70c7e708-6ae3-4da0-dd86-31631257d112"
      },
      "outputs": [
        {
          "output_type": "execute_result",
          "data": {
            "text/plain": [
              "{'Nepal': 'Kathmandu',\n",
              " 'Italy': 'Rome',\n",
              " 'England': 'London',\n",
              " 'India': 'New Delhi',\n",
              " 'abc': 'xyz'}"
            ]
          },
          "metadata": {},
          "execution_count": 26
        }
      ],
      "source": [
        "capital_dict"
      ]
    },
    {
      "cell_type": "code",
      "execution_count": null,
      "metadata": {
        "id": "7Xw0hz3raKZF",
        "colab": {
          "base_uri": "https://localhost:8080/"
        },
        "outputId": "665f1793-b7c8-4af2-e00e-e19ae4ec4035"
      },
      "outputs": [
        {
          "output_type": "execute_result",
          "data": {
            "text/plain": [
              "{'Nepal': 'Kathmandu',\n",
              " 'Italy': 'Rome',\n",
              " 'England': 'London',\n",
              " 'India': 'New Delhi',\n",
              " 'abc': 'xyz',\n",
              " 'Australia': 'Sydney'}"
            ]
          },
          "metadata": {},
          "execution_count": 27
        }
      ],
      "source": [
        "capital_dict.update({\"Australia\":\"Sydney\"}) # capital of Australia is Canberra\n",
        "capital_dict"
      ]
    },
    {
      "cell_type": "code",
      "execution_count": null,
      "metadata": {
        "colab": {
          "base_uri": "https://localhost:8080/",
          "height": 35
        },
        "id": "GrYVepbHZn-Z",
        "outputId": "24718e49-7fc6-4dc4-e68e-417986c906c4"
      },
      "outputs": [
        {
          "output_type": "execute_result",
          "data": {
            "text/plain": [
              "'Sydney'"
            ],
            "application/vnd.google.colaboratory.intrinsic+json": {
              "type": "string"
            }
          },
          "metadata": {},
          "execution_count": 28
        }
      ],
      "source": [
        "# The pop() method removes and returns an element from a dictionary having the given key.\n",
        "capital_dict.pop(\"Australia\")"
      ]
    },
    {
      "cell_type": "code",
      "execution_count": null,
      "metadata": {
        "colab": {
          "base_uri": "https://localhost:8080/"
        },
        "id": "FH9ibZWx3wBT",
        "outputId": "9169cc2f-281b-4d6e-afbb-44de3bf72212"
      },
      "outputs": [
        {
          "output_type": "execute_result",
          "data": {
            "text/plain": [
              "{'Nepal': 'Kathmandu',\n",
              " 'Italy': 'Rome',\n",
              " 'England': 'London',\n",
              " 'India': 'New Delhi',\n",
              " 'abc': 'xyz'}"
            ]
          },
          "metadata": {},
          "execution_count": 29
        }
      ],
      "source": [
        "capital_dict"
      ]
    },
    {
      "cell_type": "code",
      "execution_count": null,
      "metadata": {
        "id": "5bBQ17_HQLOJ"
      },
      "outputs": [],
      "source": [
        "capital_dict['abc']=\"Mumbai\""
      ]
    },
    {
      "cell_type": "code",
      "execution_count": null,
      "metadata": {
        "colab": {
          "base_uri": "https://localhost:8080/"
        },
        "id": "KiV7WPLTbgZn",
        "outputId": "a1094668-7d11-4b70-d4d8-ac2ebdac2b7d"
      },
      "outputs": [
        {
          "output_type": "execute_result",
          "data": {
            "text/plain": [
              "{'Nepal': 'Kathmandu',\n",
              " 'Italy': 'Rome',\n",
              " 'England': 'London',\n",
              " 'India': 'New Delhi',\n",
              " 'abc': 'Mumbai'}"
            ]
          },
          "metadata": {},
          "execution_count": 31
        }
      ],
      "source": [
        "capital_dict"
      ]
    },
    {
      "cell_type": "code",
      "execution_count": null,
      "metadata": {
        "colab": {
          "base_uri": "https://localhost:8080/"
        },
        "id": "IkpWqBkWRY3C",
        "outputId": "4d0b7dcc-bbad-4837-838b-6b61ffce5378"
      },
      "outputs": [
        {
          "output_type": "execute_result",
          "data": {
            "text/plain": [
              "('abc', 'Mumbai')"
            ]
          },
          "metadata": {},
          "execution_count": 32
        }
      ],
      "source": [
        "capital_dict.popitem() # removes last key:value pair from dictionary"
      ]
    },
    {
      "cell_type": "code",
      "source": [],
      "metadata": {
        "id": "lp4lKBUnhJwN"
      },
      "execution_count": null,
      "outputs": []
    },
    {
      "cell_type": "code",
      "execution_count": null,
      "metadata": {
        "colab": {
          "base_uri": "https://localhost:8080/"
        },
        "id": "6S9VAE_CRf80",
        "outputId": "29439efd-ddf6-4bf7-d5b4-1853405216ef"
      },
      "outputs": [
        {
          "output_type": "execute_result",
          "data": {
            "text/plain": [
              "{'Nepal': 'Kathmandu',\n",
              " 'Italy': 'Rome',\n",
              " 'England': 'London',\n",
              " 'India': 'New Delhi'}"
            ]
          },
          "metadata": {},
          "execution_count": 33
        }
      ],
      "source": [
        "capital_dict"
      ]
    },
    {
      "cell_type": "code",
      "execution_count": null,
      "metadata": {
        "id": "CVhCf4KIbj6E"
      },
      "outputs": [],
      "source": [
        "# Dictionary Values can be of different data type\n",
        "mylist=[\"Mango\",\"Orange\",\"Strawberry\",\"Banana\",\"Mulberry\",\"Black berry\"]"
      ]
    },
    {
      "cell_type": "code",
      "execution_count": null,
      "metadata": {
        "id": "Ind6hsS8cmID"
      },
      "outputs": [],
      "source": [
        "mytuple=(20,53,45,78,89,65,97)"
      ]
    },
    {
      "cell_type": "code",
      "execution_count": null,
      "metadata": {
        "colab": {
          "base_uri": "https://localhost:8080/"
        },
        "id": "tTozy8ZLcuRd",
        "outputId": "58c9599e-cb88-4931-829e-80a0d9b6da05"
      },
      "outputs": [
        {
          "output_type": "execute_result",
          "data": {
            "text/plain": [
              "{'A': ['Mango', 'Orange', 'Strawberry', 'Banana', 'Mulberry', 'Black berry'],\n",
              " 'B': (20, 53, 45, 78, 89, 65, 97),\n",
              " 'C': {'Nepal': 'Kathmandu',\n",
              "  'Italy': 'Rome',\n",
              "  'England': 'London',\n",
              "  'India': 'New Delhi'}}"
            ]
          },
          "metadata": {},
          "execution_count": 36
        }
      ],
      "source": [
        "mydict={\"A\":mylist,\n",
        "        \"B\":mytuple,\n",
        "        \"C\":capital_dict\n",
        "       }\n",
        "mydict"
      ]
    },
    {
      "cell_type": "code",
      "execution_count": null,
      "metadata": {
        "colab": {
          "base_uri": "https://localhost:8080/"
        },
        "id": "Dl7SDJxGdEzN",
        "outputId": "c95cdbee-6139-4126-aabf-214b51cf3f6e"
      },
      "outputs": [
        {
          "output_type": "execute_result",
          "data": {
            "text/plain": [
              "['Mango', 'Orange', 'Strawberry', 'Banana', 'Mulberry', 'Black berry']"
            ]
          },
          "metadata": {},
          "execution_count": 37
        }
      ],
      "source": [
        "mydict['A']"
      ]
    },
    {
      "cell_type": "code",
      "execution_count": null,
      "metadata": {
        "colab": {
          "base_uri": "https://localhost:8080/"
        },
        "id": "IMhZtE-3dQcJ",
        "outputId": "6c02ddde-cfeb-4a96-81fc-faeee534eccf"
      },
      "outputs": [
        {
          "output_type": "execute_result",
          "data": {
            "text/plain": [
              "{'Nepal': 'Kathmandu',\n",
              " 'Italy': 'Rome',\n",
              " 'England': 'London',\n",
              " 'India': 'New Delhi'}"
            ]
          },
          "metadata": {},
          "execution_count": 38
        }
      ],
      "source": [
        "mydict['C']"
      ]
    },
    {
      "cell_type": "code",
      "execution_count": null,
      "metadata": {
        "colab": {
          "base_uri": "https://localhost:8080/",
          "height": 35
        },
        "id": "PRaZYzWqdUxM",
        "outputId": "836aa560-7775-4cfd-93bb-122c9e88a62f"
      },
      "outputs": [
        {
          "output_type": "execute_result",
          "data": {
            "text/plain": [
              "'Black berry'"
            ],
            "application/vnd.google.colaboratory.intrinsic+json": {
              "type": "string"
            }
          },
          "metadata": {},
          "execution_count": 39
        }
      ],
      "source": [
        "mydict['A'][5] #index 0 1 2 3, 3rd index element = banana"
      ]
    },
    {
      "cell_type": "code",
      "execution_count": null,
      "metadata": {
        "colab": {
          "base_uri": "https://localhost:8080/",
          "height": 35
        },
        "id": "4S_dm12UdiZ5",
        "outputId": "8f754d1e-68e0-4cc9-8a4f-81cc16fa522e"
      },
      "outputs": [
        {
          "output_type": "execute_result",
          "data": {
            "text/plain": [
              "'Rome'"
            ],
            "application/vnd.google.colaboratory.intrinsic+json": {
              "type": "string"
            }
          },
          "metadata": {},
          "execution_count": 40
        }
      ],
      "source": [
        "mydict['C']['Italy']"
      ]
    },
    {
      "cell_type": "code",
      "execution_count": null,
      "metadata": {
        "colab": {
          "base_uri": "https://localhost:8080/",
          "height": 194
        },
        "id": "iBnI2KYndxbK",
        "outputId": "722182f6-9add-4f0f-afcd-941fcd3a9117"
      },
      "outputs": [
        {
          "output_type": "error",
          "ename": "NameError",
          "evalue": "name 'sqrt' is not defined",
          "traceback": [
            "\u001b[0;31m---------------------------------------------------------------------------\u001b[0m",
            "\u001b[0;31mNameError\u001b[0m                                 Traceback (most recent call last)",
            "\u001b[0;32m<ipython-input-41-8faec0ab57b9>\u001b[0m in \u001b[0;36m<cell line: 2>\u001b[0;34m()\u001b[0m\n\u001b[1;32m      1\u001b[0m \u001b[0;31m# Math functions: can import specific functions or all using *\u001b[0m\u001b[0;34m\u001b[0m\u001b[0;34m\u001b[0m\u001b[0m\n\u001b[0;32m----> 2\u001b[0;31m \u001b[0msqrt\u001b[0m\u001b[0;34m(\u001b[0m\u001b[0;36m25\u001b[0m\u001b[0;34m)\u001b[0m \u001b[0;31m# raise error as you have not imported\u001b[0m\u001b[0;34m\u001b[0m\u001b[0;34m\u001b[0m\u001b[0m\n\u001b[0m",
            "\u001b[0;31mNameError\u001b[0m: name 'sqrt' is not defined"
          ]
        }
      ],
      "source": [
        "# Math functions: can import specific functions or all using *\n",
        "sqrt(25) # raise error as you have not imported"
      ]
    },
    {
      "cell_type": "code",
      "execution_count": null,
      "metadata": {
        "colab": {
          "base_uri": "https://localhost:8080/"
        },
        "id": "jtlRIuewfkho",
        "outputId": "2aea2be0-9e5a-452f-eb36-f531b3ef30e8"
      },
      "outputs": [
        {
          "output_type": "execute_result",
          "data": {
            "text/plain": [
              "9.0"
            ]
          },
          "metadata": {},
          "execution_count": 42
        }
      ],
      "source": [
        "from math import sqrt\n",
        "sqrt(81)"
      ]
    },
    {
      "cell_type": "code",
      "execution_count": null,
      "metadata": {
        "id": "u5LN2kMUfpgo",
        "colab": {
          "base_uri": "https://localhost:8080/",
          "height": 177
        },
        "outputId": "2503f8d1-778f-4f84-c877-5d683cdb3d39"
      },
      "outputs": [
        {
          "output_type": "error",
          "ename": "NameError",
          "evalue": "name 'factorial' is not defined",
          "traceback": [
            "\u001b[0;31m---------------------------------------------------------------------------\u001b[0m",
            "\u001b[0;31mNameError\u001b[0m                                 Traceback (most recent call last)",
            "\u001b[0;32m<ipython-input-43-637175d621a4>\u001b[0m in \u001b[0;36m<cell line: 1>\u001b[0;34m()\u001b[0m\n\u001b[0;32m----> 1\u001b[0;31m \u001b[0mfactorial\u001b[0m\u001b[0;34m(\u001b[0m\u001b[0;36m5\u001b[0m\u001b[0;34m)\u001b[0m\u001b[0;34m\u001b[0m\u001b[0;34m\u001b[0m\u001b[0m\n\u001b[0m",
            "\u001b[0;31mNameError\u001b[0m: name 'factorial' is not defined"
          ]
        }
      ],
      "source": [
        "factorial(5)"
      ]
    },
    {
      "cell_type": "code",
      "execution_count": null,
      "metadata": {
        "colab": {
          "base_uri": "https://localhost:8080/"
        },
        "id": "O42al4tpf23m",
        "outputId": "b81de0ad-4cff-492e-99ee-f967e8674a4b"
      },
      "outputs": [
        {
          "output_type": "execute_result",
          "data": {
            "text/plain": [
              "120"
            ]
          },
          "metadata": {},
          "execution_count": 44
        }
      ],
      "source": [
        "from math import factorial\n",
        "factorial(5)"
      ]
    },
    {
      "cell_type": "code",
      "execution_count": null,
      "metadata": {
        "id": "8Kl2wEIhfSEJ"
      },
      "outputs": [],
      "source": [
        "sin(90)"
      ]
    },
    {
      "cell_type": "code",
      "execution_count": null,
      "metadata": {
        "id": "1Zmvln2UgD91"
      },
      "outputs": [],
      "source": [
        "from math import sin,cos,tan"
      ]
    },
    {
      "cell_type": "code",
      "execution_count": null,
      "metadata": {
        "colab": {
          "base_uri": "https://localhost:8080/"
        },
        "id": "wy4ycHVzgIT3",
        "outputId": "94dd9c60-bf1f-4b8c-f5b9-7e1308b53c80"
      },
      "outputs": [
        {
          "output_type": "execute_result",
          "data": {
            "text/plain": [
              "1.0"
            ]
          },
          "metadata": {},
          "execution_count": 46
        }
      ],
      "source": [
        "cos(0)"
      ]
    },
    {
      "cell_type": "code",
      "execution_count": null,
      "metadata": {
        "colab": {
          "base_uri": "https://localhost:8080/"
        },
        "id": "iiM-Abv0gJ4c",
        "outputId": "33bc46ad-c0aa-4ea8-8356-b2ee9a563fe3"
      },
      "outputs": [
        {
          "output_type": "execute_result",
          "data": {
            "text/plain": [
              "30"
            ]
          },
          "metadata": {},
          "execution_count": 47
        }
      ],
      "source": [
        "from math import *\n",
        "listnew=[5,2,3]\n",
        "prod(listnew) #or prod([10,20,30])"
      ]
    },
    {
      "cell_type": "code",
      "execution_count": null,
      "metadata": {
        "id": "BlJGJTencMpa",
        "colab": {
          "base_uri": "https://localhost:8080/"
        },
        "outputId": "672f63b7-ab66-4df9-d7c1-86349d2ea837"
      },
      "outputs": [
        {
          "output_type": "stream",
          "name": "stdout",
          "text": [
            "120\n"
          ]
        }
      ],
      "source": [
        "# OR you can say 'import math'\n",
        "# But while calling any function you have to use math.Function_Name()\n",
        "# The math.prod() method returns the product of the elements from the given iterable.\n",
        "import math # or 'import math as mt', mt.sqrt(64 )\n",
        "sequence = (2,2,5,6) # iterable where elements are given\n",
        "print(math.prod(sequence))\n"
      ]
    },
    {
      "cell_type": "code",
      "execution_count": null,
      "metadata": {
        "id": "PHoMI4rVPkPt",
        "colab": {
          "base_uri": "https://localhost:8080/"
        },
        "outputId": "8b81a0ed-1205-438e-c1c2-81791e078fd7"
      },
      "outputs": [
        {
          "output_type": "execute_result",
          "data": {
            "text/plain": [
              "24"
            ]
          },
          "metadata": {},
          "execution_count": 49
        }
      ],
      "source": [
        "import math\n",
        "list4=[2,3,4]\n",
        "math.prod(list4)"
      ]
    },
    {
      "cell_type": "code",
      "execution_count": null,
      "metadata": {
        "id": "I82kfNfHiJCk",
        "colab": {
          "base_uri": "https://localhost:8080/"
        },
        "outputId": "5ba2d3a6-ed3f-4686-8b42-90855ea1227d"
      },
      "outputs": [
        {
          "output_type": "execute_result",
          "data": {
            "text/plain": [
              "['__doc__',\n",
              " '__loader__',\n",
              " '__name__',\n",
              " '__package__',\n",
              " '__spec__',\n",
              " 'acos',\n",
              " 'acosh',\n",
              " 'asin',\n",
              " 'asinh',\n",
              " 'atan',\n",
              " 'atan2',\n",
              " 'atanh',\n",
              " 'ceil',\n",
              " 'comb',\n",
              " 'copysign',\n",
              " 'cos',\n",
              " 'cosh',\n",
              " 'degrees',\n",
              " 'dist',\n",
              " 'e',\n",
              " 'erf',\n",
              " 'erfc',\n",
              " 'exp',\n",
              " 'expm1',\n",
              " 'fabs',\n",
              " 'factorial',\n",
              " 'floor',\n",
              " 'fmod',\n",
              " 'frexp',\n",
              " 'fsum',\n",
              " 'gamma',\n",
              " 'gcd',\n",
              " 'hypot',\n",
              " 'inf',\n",
              " 'isclose',\n",
              " 'isfinite',\n",
              " 'isinf',\n",
              " 'isnan',\n",
              " 'isqrt',\n",
              " 'lcm',\n",
              " 'ldexp',\n",
              " 'lgamma',\n",
              " 'log',\n",
              " 'log10',\n",
              " 'log1p',\n",
              " 'log2',\n",
              " 'modf',\n",
              " 'nan',\n",
              " 'nextafter',\n",
              " 'perm',\n",
              " 'pi',\n",
              " 'pow',\n",
              " 'prod',\n",
              " 'radians',\n",
              " 'remainder',\n",
              " 'sin',\n",
              " 'sinh',\n",
              " 'sqrt',\n",
              " 'tan',\n",
              " 'tanh',\n",
              " 'tau',\n",
              " 'trunc',\n",
              " 'ulp']"
            ]
          },
          "metadata": {},
          "execution_count": 50
        }
      ],
      "source": [
        "dir(math) # all functions of math library"
      ]
    },
    {
      "cell_type": "code",
      "execution_count": null,
      "metadata": {
        "id": "scqTIj07hiz6"
      },
      "outputs": [],
      "source": [
        "import math as mt"
      ]
    },
    {
      "cell_type": "code",
      "execution_count": null,
      "metadata": {
        "colab": {
          "base_uri": "https://localhost:8080/"
        },
        "id": "dWyt4RGRqXRE",
        "outputId": "478ae93c-f796-4bf9-8b25-7a143b639709"
      },
      "outputs": [
        {
          "output_type": "execute_result",
          "data": {
            "text/plain": [
              "6.0"
            ]
          },
          "metadata": {},
          "execution_count": 53
        }
      ],
      "source": [
        "mt.sqrt(36)"
      ]
    },
    {
      "cell_type": "code",
      "execution_count": null,
      "metadata": {
        "id": "od3Gd5ZuZl7X"
      },
      "outputs": [],
      "source": []
    }
  ],
  "metadata": {
    "colab": {
      "provenance": []
    },
    "kernelspec": {
      "display_name": "Python 3",
      "name": "python3"
    },
    "language_info": {
      "name": "python"
    }
  },
  "nbformat": 4,
  "nbformat_minor": 0
}