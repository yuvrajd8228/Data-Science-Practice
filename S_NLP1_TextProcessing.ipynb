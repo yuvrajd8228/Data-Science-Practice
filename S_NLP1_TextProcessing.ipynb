{
  "nbformat": 4,
  "nbformat_minor": 0,
  "metadata": {
    "colab": {
      "provenance": []
    },
    "kernelspec": {
      "name": "python3",
      "display_name": "Python 3"
    },
    "language_info": {
      "name": "python"
    }
  },
  "cells": [
    {
      "cell_type": "code",
      "execution_count": null,
      "metadata": {
        "id": "joXaY4CtrmmM"
      },
      "outputs": [],
      "source": [
        " # Inside nltk library you will get stop word, stemming, lemmatization. So install it\n",
        "!pip install nltk"
      ]
    },
    {
      "cell_type": "code",
      "source": [
        "# import libraries\n",
        "import nltk\n",
        "nltk.download('punkt')\n",
        "#punkt - This tokenizer divides a text into a list of sentences by using an unsupervised algorithm\n",
        "# to build a model for abbreviation words, collocations, and words that start sentences.\n",
        "nltk.download('stopwords')\n",
        "nltk.download('wordnet')\n",
        "#wordnet-WordNET is a lexical database of words in more than 200 languages in which we have adjectives, adverbs, nouns,\n",
        "# and verbs grouped differently into a set of cognitive synonyms, where each word in the database is expressing its distinct concept.\n",
        "nltk.download('omw-1.4')\n",
        "from nltk.stem import PorterStemmer, WordNetLemmatizer\n",
        "from nltk.corpus import stopwords\n",
        "# PortStemmer - for stemming\n",
        "# WordNetLematizer - for lemmatization\n",
        "import re # for regular expression"
      ],
      "metadata": {
        "id": "QP8TYQ7lsNSG"
      },
      "execution_count": null,
      "outputs": []
    },
    {
      "cell_type": "code",
      "source": [
        "# text data :para=\"\"\"paste whole paragraph here\"\"\"\n",
        "para = \"\"\"— Tensor and Tensorflow: A powerful combo 💪\n",
        "The Google Brain team developed an advanced AI framework named Tensorflow years back. After that, Google designed its own processing unit named Tensor Processing Unit or TPU to perform more efficiently with the Tensorflow. The invention of TPU was a revolution in AI that has significantly expedited the training of huge machine learning models with millions (or, billions) of parameters. Nevertheless, that technology could not be used in low-power devices such as smartphones in Edge AI. The entrance of Google into the AI chip manufacturing club for low-power devices can be the next revolution in this industry. Many companies such as FogHorn and BlinkAI are working in Edge AI using currently existing AI chips in the market. However, the efficacy that Google can create by the combination of TensorFlow and Tensor will be game-changing. Welcome to the club, Google!\n",
        "\n",
        "— Tensor is an AI chip designed by AI! 😲\n",
        "Isn’t that cool? The story is started from an article published in Nature titles “A graph placement methodology for fast chip design”. To design a processing chip, there is a crucial step referred to as “floor planning” where the engineering team must place a large number of components such that a series of physical requirements including power consumption and performance get satisfied. I don’t go further into its details as I am also not an expert in hardware engineering. However, when you have a large series of choices to make with a series of constraints AI can kick in. You may remember how the AlphaGo project defeated a professional human Go player. This is exactly the same. Tensor is the real outcome of this project that is a new milestone in the AI industry. Kudos, Google!\n",
        "\n",
        "— Tensor helps us build ethical AI. 💡\n",
        "This is a double-edged sword statement. Ethical AI has various aspects from data privacy to AI for all. Tensor helps many users have the opportunity to try the latest AI advancement while they have no concern about their privacy. Why? Because the AI engine is running on the chip, and no data is sent to the cloud for further computation. On the other hand, the more tightly Google binds AI software and hardware, the harder it will be for other companies to compete. I don’t want to see days that other companies can not even compete on performing AI inference, i.e., compete on using AI. We almost lost the game of model training to giant tech companies. It would be a nightmare if we lose the game on AI inference to them as well. That is why I believe “Tensor helps us build ethical AI” is a double-edged sword.\"\"\""
      ],
      "metadata": {
        "id": "2ya3pgBusvqZ"
      },
      "execution_count": null,
      "outputs": []
    },
    {
      "cell_type": "code",
      "source": [
        "para"
      ],
      "metadata": {
        "id": "ui49_rzGun_g",
        "colab": {
          "base_uri": "https://localhost:8080/",
          "height": 156
        },
        "outputId": "06f2eee4-4742-44d5-c2b3-f74c3df0fb7c"
      },
      "execution_count": null,
      "outputs": [
        {
          "output_type": "execute_result",
          "data": {
            "text/plain": [
              "'— Tensor and Tensorflow: A powerful combo 💪\\nThe Google Brain team developed an advanced AI framework named Tensorflow years back. After that, Google designed its own processing unit named Tensor Processing Unit or TPU to perform more efficiently with the Tensorflow. The invention of TPU was a revolution in AI that has significantly expedited the training of huge machine learning models with millions (or, billions) of parameters. Nevertheless, that technology could not be used in low-power devices such as smartphones in Edge AI. The entrance of Google into the AI chip manufacturing club for low-power devices can be the next revolution in this industry. Many companies such as FogHorn and BlinkAI are working in Edge AI using currently existing AI chips in the market. However, the efficacy that Google can create by the combination of TensorFlow and Tensor will be game-changing. Welcome to the club, Google!\\n\\n— Tensor is an AI chip designed by AI! 😲\\nIsn’t that cool? The story is started from an article published in Nature titles “A graph placement methodology for fast chip design”. To design a processing chip, there is a crucial step referred to as “floor planning” where the engineering team must place a large number of components such that a series of physical requirements including power consumption and performance get satisfied. I don’t go further into its details as I am also not an expert in hardware engineering. However, when you have a large series of choices to make with a series of constraints AI can kick in. You may remember how the AlphaGo project defeated a professional human Go player. This is exactly the same. Tensor is the real outcome of this project that is a new milestone in the AI industry. Kudos, Google!\\n\\n— Tensor helps us build ethical AI. 💡\\nThis is a double-edged sword statement. Ethical AI has various aspects from data privacy to AI for all. Tensor helps many users have the opportunity to try the latest AI advancement while they have no concern about their privacy. Why? Because the AI engine is running on the chip, and no data is sent to the cloud for further computation. On the other hand, the more tightly Google binds AI software and hardware, the harder it will be for other companies to compete. I don’t want to see days that other companies can not even compete on performing AI inference, i.e., compete on using AI. We almost lost the game of model training to giant tech companies. It would be a nightmare if we lose the game on AI inference to them as well. That is why I believe “Tensor helps us build ethical AI” is a double-edged sword.'"
            ],
            "application/vnd.google.colaboratory.intrinsic+json": {
              "type": "string"
            }
          },
          "metadata": {},
          "execution_count": 4
        }
      ]
    },
    {
      "cell_type": "code",
      "source": [
        "len(para) # returns no. of characters in sentence or paragraph"
      ],
      "metadata": {
        "colab": {
          "base_uri": "https://localhost:8080/"
        },
        "id": "4jmva8a2xE0S",
        "outputId": "e32d9520-c7f9-46d2-ce70-7a55040efc69"
      },
      "execution_count": null,
      "outputs": [
        {
          "output_type": "execute_result",
          "data": {
            "text/plain": [
              "2602"
            ]
          },
          "metadata": {},
          "execution_count": 5
        }
      ]
    },
    {
      "cell_type": "code",
      "source": [
        "# in this paragraph special symbols, quotation marks, punchuation symbols, emojis are present\n",
        "# these are all unnecessary things.\n",
        "# Tokenization\n",
        "# Word Tokenization\n",
        "\n",
        "document = \"We are learning tokenization in NLP\"\n",
        "nltk.word_tokenize(document)"
      ],
      "metadata": {
        "colab": {
          "base_uri": "https://localhost:8080/"
        },
        "id": "KzTdZIXLupV6",
        "outputId": "5dd46a70-5d80-43b8-8fd1-1b7a7d1311ad"
      },
      "execution_count": null,
      "outputs": [
        {
          "output_type": "execute_result",
          "data": {
            "text/plain": [
              "['We', 'are', 'learning', 'tokenization', 'in', 'NLP']"
            ]
          },
          "metadata": {},
          "execution_count": 6
        }
      ]
    },
    {
      "cell_type": "code",
      "source": [
        "len(document)"
      ],
      "metadata": {
        "colab": {
          "base_uri": "https://localhost:8080/"
        },
        "id": "0fpCNfhCC9la",
        "outputId": "00e5cd19-c30b-40a9-aa72-663165579095"
      },
      "execution_count": null,
      "outputs": [
        {
          "output_type": "execute_result",
          "data": {
            "text/plain": [
              "35"
            ]
          },
          "metadata": {},
          "execution_count": 7
        }
      ]
    },
    {
      "cell_type": "markdown",
      "source": [
        "We can't do word tokenization directly on paragraph. \\n represents new line in paragraph. For that Sentence tokenization need to be done."
      ],
      "metadata": {
        "id": "R21HHLW_wgQD"
      }
    },
    {
      "cell_type": "code",
      "source": [
        "#Sentence Tokenization\n",
        "sent = nltk.sent_tokenize(para)"
      ],
      "metadata": {
        "id": "AlwkfvV5wM2w"
      },
      "execution_count": null,
      "outputs": []
    },
    {
      "cell_type": "code",
      "source": [
        "len(sent) # length is 29 sentences i.e. 29 documents"
      ],
      "metadata": {
        "colab": {
          "base_uri": "https://localhost:8080/"
        },
        "id": "dTs5l5iUxRii",
        "outputId": "b04d9e4a-e3d3-42f8-fa50-f3ddb842b9f6"
      },
      "execution_count": null,
      "outputs": [
        {
          "output_type": "execute_result",
          "data": {
            "text/plain": [
              "29"
            ]
          },
          "metadata": {},
          "execution_count": 9
        }
      ]
    },
    {
      "cell_type": "code",
      "source": [
        "sent[0] # shows first document"
      ],
      "metadata": {
        "id": "kCVEkKQ6xUOh",
        "colab": {
          "base_uri": "https://localhost:8080/",
          "height": 35
        },
        "outputId": "4e4c30f2-5f16-46d5-ec90-27224c7e6c82"
      },
      "execution_count": null,
      "outputs": [
        {
          "output_type": "execute_result",
          "data": {
            "text/plain": [
              "'— Tensor and Tensorflow: A powerful combo 💪\\nThe Google Brain team developed an advanced AI framework named Tensorflow years back.'"
            ],
            "application/vnd.google.colaboratory.intrinsic+json": {
              "type": "string"
            }
          },
          "metadata": {},
          "execution_count": 10
        }
      ]
    },
    {
      "cell_type": "code",
      "source": [
        "# Text Cleaning - remove unnecessary things - punctuation marks, symbols, emojis, etc. using sub()\n",
        "# Text normalization - convert each word in lower case\n",
        "#  sub() returns a string where all matching occurrences of the specified pattern are replaced by the replace string.\n",
        "corpus = []\n",
        "\n",
        "for i in range(len(sent)):\n",
        "  txt = re.sub('[^a-zA-Z]',' ',sent[i])# except a-zA-Z remove everything from each sentence\n",
        "  txt = txt.lower()\n",
        "  corpus.append(txt)"
      ],
      "metadata": {
        "id": "7WcF0Z4yxkq3"
      },
      "execution_count": null,
      "outputs": []
    },
    {
      "cell_type": "code",
      "source": [
        "corpus"
      ],
      "metadata": {
        "id": "X46V7CTQzZHT",
        "colab": {
          "base_uri": "https://localhost:8080/"
        },
        "outputId": "41cbf02c-3590-4175-ae8e-3e942a90726c"
      },
      "execution_count": null,
      "outputs": [
        {
          "output_type": "execute_result",
          "data": {
            "text/plain": [
              "['  tensor and tensorflow  a powerful combo   the google brain team developed an advanced ai framework named tensorflow years back ',\n",
              " 'after that  google designed its own processing unit named tensor processing unit or tpu to perform more efficiently with the tensorflow ',\n",
              " 'the invention of tpu was a revolution in ai that has significantly expedited the training of huge machine learning models with millions  or  billions  of parameters ',\n",
              " 'nevertheless  that technology could not be used in low power devices such as smartphones in edge ai ',\n",
              " 'the entrance of google into the ai chip manufacturing club for low power devices can be the next revolution in this industry ',\n",
              " 'many companies such as foghorn and blinkai are working in edge ai using currently existing ai chips in the market ',\n",
              " 'however  the efficacy that google can create by the combination of tensorflow and tensor will be game changing ',\n",
              " 'welcome to the club  google ',\n",
              " '  tensor is an ai chip designed by ai ',\n",
              " '  isn t that cool ',\n",
              " 'the story is started from an article published in nature titles  a graph placement methodology for fast chip design  ',\n",
              " 'to design a processing chip  there is a crucial step referred to as  floor planning  where the engineering team must place a large number of components such that a series of physical requirements including power consumption and performance get satisfied ',\n",
              " 'i don t go further into its details as i am also not an expert in hardware engineering ',\n",
              " 'however  when you have a large series of choices to make with a series of constraints ai can kick in ',\n",
              " 'you may remember how the alphago project defeated a professional human go player ',\n",
              " 'this is exactly the same ',\n",
              " 'tensor is the real outcome of this project that is a new milestone in the ai industry ',\n",
              " 'kudos  google ',\n",
              " '  tensor helps us build ethical ai ',\n",
              " '  this is a double edged sword statement ',\n",
              " 'ethical ai has various aspects from data privacy to ai for all ',\n",
              " 'tensor helps many users have the opportunity to try the latest ai advancement while they have no concern about their privacy ',\n",
              " 'why ',\n",
              " 'because the ai engine is running on the chip  and no data is sent to the cloud for further computation ',\n",
              " 'on the other hand  the more tightly google binds ai software and hardware  the harder it will be for other companies to compete ',\n",
              " 'i don t want to see days that other companies can not even compete on performing ai inference  i e   compete on using ai ',\n",
              " 'we almost lost the game of model training to giant tech companies ',\n",
              " 'it would be a nightmare if we lose the game on ai inference to them as well ',\n",
              " 'that is why i believe  tensor helps us build ethical ai  is a double edged sword ']"
            ]
          },
          "metadata": {},
          "execution_count": 19
        }
      ]
    },
    {
      "cell_type": "code",
      "source": [
        "# now we can perform stemming and lemmatization\n",
        "#Stemming\n",
        "stemmer = PorterStemmer()"
      ],
      "metadata": {
        "id": "j7oM9eB4zali"
      },
      "execution_count": null,
      "outputs": []
    },
    {
      "cell_type": "code",
      "source": [
        "stemmer.stem('goes')"
      ],
      "metadata": {
        "id": "CuXSa2pJzs66"
      },
      "execution_count": null,
      "outputs": []
    },
    {
      "cell_type": "code",
      "source": [
        "stemmer.stem('history')"
      ],
      "metadata": {
        "id": "aC9YB6div21m"
      },
      "execution_count": null,
      "outputs": []
    },
    {
      "cell_type": "code",
      "source": [
        "stemmer.stem('finally')"
      ],
      "metadata": {
        "id": "yxOMvLWtz5JX"
      },
      "execution_count": null,
      "outputs": []
    },
    {
      "cell_type": "code",
      "source": [
        "stemmer.stem(\"developed\")"
      ],
      "metadata": {
        "id": "EmRETLHXTOTE"
      },
      "execution_count": null,
      "outputs": []
    },
    {
      "cell_type": "code",
      "source": [
        "\n",
        "for i in corpus:\n",
        "  words = nltk.word_tokenize(i)\n",
        "  print(words)\n",
        "  # we get separate list for each sentence"
      ],
      "metadata": {
        "id": "25WelZkhz7-x",
        "colab": {
          "base_uri": "https://localhost:8080/"
        },
        "outputId": "f6bb0eb6-a70f-4691-9bef-e63d00ef1f62"
      },
      "execution_count": null,
      "outputs": [
        {
          "output_type": "stream",
          "name": "stdout",
          "text": [
            "['tensor', 'and', 'tensorflow', 'a', 'powerful', 'combo', 'the', 'google', 'brain', 'team', 'developed', 'an', 'advanced', 'ai', 'framework', 'named', 'tensorflow', 'years', 'back']\n",
            "['after', 'that', 'google', 'designed', 'its', 'own', 'processing', 'unit', 'named', 'tensor', 'processing', 'unit', 'or', 'tpu', 'to', 'perform', 'more', 'efficiently', 'with', 'the', 'tensorflow']\n",
            "['the', 'invention', 'of', 'tpu', 'was', 'a', 'revolution', 'in', 'ai', 'that', 'has', 'significantly', 'expedited', 'the', 'training', 'of', 'huge', 'machine', 'learning', 'models', 'with', 'millions', 'or', 'billions', 'of', 'parameters']\n",
            "['nevertheless', 'that', 'technology', 'could', 'not', 'be', 'used', 'in', 'low', 'power', 'devices', 'such', 'as', 'smartphones', 'in', 'edge', 'ai']\n",
            "['the', 'entrance', 'of', 'google', 'into', 'the', 'ai', 'chip', 'manufacturing', 'club', 'for', 'low', 'power', 'devices', 'can', 'be', 'the', 'next', 'revolution', 'in', 'this', 'industry']\n",
            "['many', 'companies', 'such', 'as', 'foghorn', 'and', 'blinkai', 'are', 'working', 'in', 'edge', 'ai', 'using', 'currently', 'existing', 'ai', 'chips', 'in', 'the', 'market']\n",
            "['however', 'the', 'efficacy', 'that', 'google', 'can', 'create', 'by', 'the', 'combination', 'of', 'tensorflow', 'and', 'tensor', 'will', 'be', 'game', 'changing']\n",
            "['welcome', 'to', 'the', 'club', 'google']\n",
            "['tensor', 'is', 'an', 'ai', 'chip', 'designed', 'by', 'ai']\n",
            "['isn', 't', 'that', 'cool']\n",
            "['the', 'story', 'is', 'started', 'from', 'an', 'article', 'published', 'in', 'nature', 'titles', 'a', 'graph', 'placement', 'methodology', 'for', 'fast', 'chip', 'design']\n",
            "['to', 'design', 'a', 'processing', 'chip', 'there', 'is', 'a', 'crucial', 'step', 'referred', 'to', 'as', 'floor', 'planning', 'where', 'the', 'engineering', 'team', 'must', 'place', 'a', 'large', 'number', 'of', 'components', 'such', 'that', 'a', 'series', 'of', 'physical', 'requirements', 'including', 'power', 'consumption', 'and', 'performance', 'get', 'satisfied']\n",
            "['i', 'don', 't', 'go', 'further', 'into', 'its', 'details', 'as', 'i', 'am', 'also', 'not', 'an', 'expert', 'in', 'hardware', 'engineering']\n",
            "['however', 'when', 'you', 'have', 'a', 'large', 'series', 'of', 'choices', 'to', 'make', 'with', 'a', 'series', 'of', 'constraints', 'ai', 'can', 'kick', 'in']\n",
            "['you', 'may', 'remember', 'how', 'the', 'alphago', 'project', 'defeated', 'a', 'professional', 'human', 'go', 'player']\n",
            "['this', 'is', 'exactly', 'the', 'same']\n",
            "['tensor', 'is', 'the', 'real', 'outcome', 'of', 'this', 'project', 'that', 'is', 'a', 'new', 'milestone', 'in', 'the', 'ai', 'industry']\n",
            "['kudos', 'google']\n",
            "['tensor', 'helps', 'us', 'build', 'ethical', 'ai']\n",
            "['this', 'is', 'a', 'double', 'edged', 'sword', 'statement']\n",
            "['ethical', 'ai', 'has', 'various', 'aspects', 'from', 'data', 'privacy', 'to', 'ai', 'for', 'all']\n",
            "['tensor', 'helps', 'many', 'users', 'have', 'the', 'opportunity', 'to', 'try', 'the', 'latest', 'ai', 'advancement', 'while', 'they', 'have', 'no', 'concern', 'about', 'their', 'privacy']\n",
            "['why']\n",
            "['because', 'the', 'ai', 'engine', 'is', 'running', 'on', 'the', 'chip', 'and', 'no', 'data', 'is', 'sent', 'to', 'the', 'cloud', 'for', 'further', 'computation']\n",
            "['on', 'the', 'other', 'hand', 'the', 'more', 'tightly', 'google', 'binds', 'ai', 'software', 'and', 'hardware', 'the', 'harder', 'it', 'will', 'be', 'for', 'other', 'companies', 'to', 'compete']\n",
            "['i', 'don', 't', 'want', 'to', 'see', 'days', 'that', 'other', 'companies', 'can', 'not', 'even', 'compete', 'on', 'performing', 'ai', 'inference', 'i', 'e', 'compete', 'on', 'using', 'ai']\n",
            "['we', 'almost', 'lost', 'the', 'game', 'of', 'model', 'training', 'to', 'giant', 'tech', 'companies']\n",
            "['it', 'would', 'be', 'a', 'nightmare', 'if', 'we', 'lose', 'the', 'game', 'on', 'ai', 'inference', 'to', 'them', 'as', 'well']\n",
            "['that', 'is', 'why', 'i', 'believe', 'tensor', 'helps', 'us', 'build', 'ethical', 'ai', 'is', 'a', 'double', 'edged', 'sword']\n"
          ]
        }
      ]
    },
    {
      "cell_type": "code",
      "source": [
        "# Perform Tokenization, stemming and stop word removal\n",
        "\n",
        "for i in corpus:\n",
        "  words = nltk.word_tokenize(i) # for each sentence in corpus perform word tokenization\n",
        "  for i in words: # for each unique value inside word\n",
        "    if i not in set(stopwords.words('english')): # will check words in stopwords from set of english stopwords\n",
        "      print(stemmer.stem(i)) # the words whch are not present in stopwords set print by performing stemming using stem() function.\n",
        "      # powerful - power, google-googl ... doesn't make sense"
      ],
      "metadata": {
        "id": "NiYslxcB0h7x"
      },
      "execution_count": null,
      "outputs": []
    },
    {
      "cell_type": "code",
      "source": [
        "# Lemmatization\n",
        "lemma = WordNetLemmatizer()"
      ],
      "metadata": {
        "id": "tfNvuBlu0bpY"
      },
      "execution_count": null,
      "outputs": []
    },
    {
      "cell_type": "code",
      "source": [
        "lemma.lemmatize('google')"
      ],
      "metadata": {
        "id": "PckAPFjq3GjP"
      },
      "execution_count": null,
      "outputs": []
    },
    {
      "cell_type": "code",
      "source": [
        "lemma.lemmatize('historical')"
      ],
      "metadata": {
        "id": "3lg6oH5M3KS8"
      },
      "execution_count": null,
      "outputs": []
    },
    {
      "cell_type": "code",
      "source": [
        "lemma.lemmatize('coming')"
      ],
      "metadata": {
        "id": "03PYxv1G3s9g"
      },
      "execution_count": null,
      "outputs": []
    },
    {
      "cell_type": "code",
      "source": [
        "for i in corpus:\n",
        "  words = nltk.word_tokenize(i)\n",
        "  for i in words:\n",
        "    if i not in set(stopwords.words('english')):\n",
        "      print(lemma.lemmatize(i))\n",
        "      #proper google, powerful.. meaningful words are returned by lemmatization"
      ],
      "metadata": {
        "id": "tfc9_BWD3vHt"
      },
      "execution_count": null,
      "outputs": []
    },
    {
      "cell_type": "markdown",
      "source": [
        "# **Feature Extraction**"
      ],
      "metadata": {
        "id": "cKgt3gR64S4A"
      }
    },
    {
      "cell_type": "code",
      "source": [
        "# convert text data to BoW (Bag of Words) or TFIDF (Term Frequency - Inverse Document Frequency)\n",
        "# CountVectorizer - for BoW, TfidfVectorizer - for TFIDF\n",
        "import pandas as pd\n",
        "from sklearn.feature_extraction.text import CountVectorizer,TfidfVectorizer\n"
      ],
      "metadata": {
        "id": "HXnaCe-e4HG_"
      },
      "execution_count": null,
      "outputs": []
    },
    {
      "cell_type": "code",
      "source": [
        "cv = CountVectorizer() # BoW - frequency will be displayed\n",
        "# Bag of Words (BoW) simply counts the frequency of words in a document.\n",
        "#cv = CountVectorizer(binary=True) # only binary weight will be displayed i.e. present or not\n",
        "x = cv.fit_transform(corpus)#\n",
        "cv.vocabulary_ # following words are taken as columns, no. represents index of each word\n",
        "#print(max(cv.vocabulary_))"
      ],
      "metadata": {
        "id": "p-VCcUWU4l1K",
        "colab": {
          "base_uri": "https://localhost:8080/"
        },
        "outputId": "a06b53ac-22b7-4683-eeb7-9e19361ff52c"
      },
      "execution_count": null,
      "outputs": [
        {
          "output_type": "execute_result",
          "data": {
            "text/plain": [
              "{'tensor': 180,\n",
              " 'and': 11,\n",
              " 'tensorflow': 181,\n",
              " 'powerful': 151,\n",
              " 'combo': 34,\n",
              " 'the': 183,\n",
              " 'google': 81,\n",
              " 'brain': 23,\n",
              " 'team': 177,\n",
              " 'developed': 53,\n",
              " 'an': 10,\n",
              " 'advanced': 1,\n",
              " 'ai': 4,\n",
              " 'framework': 74,\n",
              " 'named': 125,\n",
              " 'years': 214,\n",
              " 'back': 16,\n",
              " 'after': 3,\n",
              " 'that': 182,\n",
              " 'designed': 51,\n",
              " 'its': 103,\n",
              " 'own': 140,\n",
              " 'processing': 153,\n",
              " 'unit': 195,\n",
              " 'or': 137,\n",
              " 'tpu': 192,\n",
              " 'to': 191,\n",
              " 'perform': 142,\n",
              " 'more': 123,\n",
              " 'efficiently': 60,\n",
              " 'with': 211,\n",
              " 'invention': 99,\n",
              " 'of': 134,\n",
              " 'was': 202,\n",
              " 'revolution': 161,\n",
              " 'in': 94,\n",
              " 'has': 86,\n",
              " 'significantly': 168,\n",
              " 'expedited': 68,\n",
              " 'training': 193,\n",
              " 'huge': 91,\n",
              " 'machine': 112,\n",
              " 'learning': 108,\n",
              " 'models': 122,\n",
              " 'millions': 120,\n",
              " 'billions': 20,\n",
              " 'parameters': 141,\n",
              " 'nevertheless': 127,\n",
              " 'technology': 179,\n",
              " 'could': 43,\n",
              " 'not': 132,\n",
              " 'be': 17,\n",
              " 'used': 197,\n",
              " 'low': 111,\n",
              " 'power': 150,\n",
              " 'devices': 54,\n",
              " 'such': 175,\n",
              " 'as': 14,\n",
              " 'smartphones': 169,\n",
              " 'edge': 57,\n",
              " 'entrance': 63,\n",
              " 'into': 98,\n",
              " 'chip': 28,\n",
              " 'manufacturing': 114,\n",
              " 'club': 32,\n",
              " 'for': 73,\n",
              " 'can': 26,\n",
              " 'next': 129,\n",
              " 'this': 188,\n",
              " 'industry': 96,\n",
              " 'many': 115,\n",
              " 'companies': 35,\n",
              " 'foghorn': 72,\n",
              " 'blinkai': 22,\n",
              " 'are': 12,\n",
              " 'working': 212,\n",
              " 'using': 199,\n",
              " 'currently': 46,\n",
              " 'existing': 67,\n",
              " 'chips': 29,\n",
              " 'market': 116,\n",
              " 'however': 90,\n",
              " 'efficacy': 59,\n",
              " 'create': 44,\n",
              " 'by': 25,\n",
              " 'combination': 33,\n",
              " 'will': 210,\n",
              " 'game': 77,\n",
              " 'changing': 27,\n",
              " 'welcome': 204,\n",
              " 'is': 100,\n",
              " 'isn': 101,\n",
              " 'cool': 42,\n",
              " 'story': 174,\n",
              " 'started': 171,\n",
              " 'from': 75,\n",
              " 'article': 13,\n",
              " 'published': 156,\n",
              " 'nature': 126,\n",
              " 'titles': 190,\n",
              " 'graph': 82,\n",
              " 'placement': 147,\n",
              " 'methodology': 118,\n",
              " 'fast': 70,\n",
              " 'design': 50,\n",
              " 'there': 186,\n",
              " 'crucial': 45,\n",
              " 'step': 173,\n",
              " 'referred': 158,\n",
              " 'floor': 71,\n",
              " 'planning': 148,\n",
              " 'where': 207,\n",
              " 'engineering': 62,\n",
              " 'must': 124,\n",
              " 'place': 146,\n",
              " 'large': 106,\n",
              " 'number': 133,\n",
              " 'components': 37,\n",
              " 'series': 167,\n",
              " 'physical': 145,\n",
              " 'requirements': 160,\n",
              " 'including': 95,\n",
              " 'consumption': 41,\n",
              " 'performance': 143,\n",
              " 'get': 78,\n",
              " 'satisfied': 164,\n",
              " 'don': 55,\n",
              " 'go': 80,\n",
              " 'further': 76,\n",
              " 'details': 52,\n",
              " 'am': 9,\n",
              " 'also': 8,\n",
              " 'expert': 69,\n",
              " 'hardware': 85,\n",
              " 'when': 206,\n",
              " 'you': 215,\n",
              " 'have': 87,\n",
              " 'choices': 30,\n",
              " 'make': 113,\n",
              " 'constraints': 40,\n",
              " 'kick': 104,\n",
              " 'may': 117,\n",
              " 'remember': 159,\n",
              " 'how': 89,\n",
              " 'alphago': 7,\n",
              " 'project': 155,\n",
              " 'defeated': 49,\n",
              " 'professional': 154,\n",
              " 'human': 92,\n",
              " 'player': 149,\n",
              " 'exactly': 66,\n",
              " 'same': 163,\n",
              " 'real': 157,\n",
              " 'outcome': 139,\n",
              " 'new': 128,\n",
              " 'milestone': 119,\n",
              " 'kudos': 105,\n",
              " 'helps': 88,\n",
              " 'us': 196,\n",
              " 'build': 24,\n",
              " 'ethical': 64,\n",
              " 'double': 56,\n",
              " 'edged': 58,\n",
              " 'sword': 176,\n",
              " 'statement': 172,\n",
              " 'various': 200,\n",
              " 'aspects': 15,\n",
              " 'data': 47,\n",
              " 'privacy': 152,\n",
              " 'all': 5,\n",
              " 'users': 198,\n",
              " 'opportunity': 136,\n",
              " 'try': 194,\n",
              " 'latest': 107,\n",
              " 'advancement': 2,\n",
              " 'while': 208,\n",
              " 'they': 187,\n",
              " 'no': 131,\n",
              " 'concern': 39,\n",
              " 'about': 0,\n",
              " 'their': 184,\n",
              " 'why': 209,\n",
              " 'because': 18,\n",
              " 'engine': 61,\n",
              " 'running': 162,\n",
              " 'on': 135,\n",
              " 'sent': 166,\n",
              " 'cloud': 31,\n",
              " 'computation': 38,\n",
              " 'other': 138,\n",
              " 'hand': 83,\n",
              " 'tightly': 189,\n",
              " 'binds': 21,\n",
              " 'software': 170,\n",
              " 'harder': 84,\n",
              " 'it': 102,\n",
              " 'compete': 36,\n",
              " 'want': 201,\n",
              " 'see': 165,\n",
              " 'days': 48,\n",
              " 'even': 65,\n",
              " 'performing': 144,\n",
              " 'inference': 97,\n",
              " 'we': 203,\n",
              " 'almost': 6,\n",
              " 'lost': 110,\n",
              " 'model': 121,\n",
              " 'giant': 79,\n",
              " 'tech': 178,\n",
              " 'would': 213,\n",
              " 'nightmare': 130,\n",
              " 'if': 93,\n",
              " 'lose': 109,\n",
              " 'them': 185,\n",
              " 'well': 205,\n",
              " 'believe': 19}"
            ]
          },
          "metadata": {},
          "execution_count": 29
        }
      ]
    },
    {
      "cell_type": "code",
      "source": [
        "# Now let us see what type of BoW it has created. BoW - gives frequency of term in document, Binary Weight - tells word is present or not\n",
        "# We can't directly print matrix x. so we need to convert it to array\n",
        "x[0].toarray() # BoW for 1st sentence,    'tensorflow': index is: 181. It occurred 2 times in 1st sentence. Check corpus[0]."
      ],
      "metadata": {
        "id": "wAtrx45p48nx"
      },
      "execution_count": null,
      "outputs": []
    },
    {
      "cell_type": "code",
      "source": [
        "corpus[0] # for this sentence above BoW is created. Why does it contain more values than the no. of words in this sentence?\n",
        "# Column contains all unique words."
      ],
      "metadata": {
        "id": "ydLIAv07GHLW"
      },
      "execution_count": null,
      "outputs": []
    },
    {
      "cell_type": "code",
      "source": [
        "# convert array into dataframe, DTM - Document Term Matrix\n",
        "x = pd.DataFrame(x.toarray(),columns=cv.get_feature_names_out())\n",
        "x\n",
        "# for 'advanced' word index was 1 so it is present at colummn index no. 1\n",
        "# in 5th document word 'ai' is occuring for 2 times.\n",
        "# BoW - gives you frequency\n",
        "# Binary weights - tells whether word is present or not\n",
        "# If you don't want to print frequency in dataframe, keep binary=True in 'cv = CountVectonizer(binary=True)'"
      ],
      "metadata": {
        "id": "6eKJYHccGK32"
      },
      "execution_count": null,
      "outputs": []
    },
    {
      "cell_type": "code",
      "source": [
        "# We can start model building now. We have 216 columns i.e. 216 unique words are there.\n",
        "# 29 rows - 29 documents / sentences are there."
      ],
      "metadata": {
        "id": "WbqPtNmZMHh4"
      },
      "execution_count": null,
      "outputs": []
    },
    {
      "cell_type": "markdown",
      "source": [
        "# **TF-IDF**\n",
        "Term frequency works by looking at the frequency of a particular term you are concerned with relative to the document.\n",
        "\n",
        "Inverse document frequency looks at how common (or uncommon) a word is amongst the corpus.\n",
        "\n",
        "The highest scoring words of a document are the most relevant to that document.\n",
        "\n"
      ],
      "metadata": {
        "id": "rNxMU2gsNO8K"
      }
    },
    {
      "cell_type": "code",
      "source": [
        "tf = TfidfVectorizer()\n",
        "x = tf.fit_transform(corpus)"
      ],
      "metadata": {
        "id": "jt9ZsrZ_G3QA"
      },
      "execution_count": null,
      "outputs": []
    },
    {
      "cell_type": "code",
      "source": [
        "# in tf-idf we will see weightage not 0 and 1\n",
        "x.toarray()"
      ],
      "metadata": {
        "id": "wQDnJ6tANZwc"
      },
      "execution_count": null,
      "outputs": []
    },
    {
      "cell_type": "code",
      "source": [
        "#convert it into dataframe\n",
        "x = pd.DataFrame(x.toarray(),columns = tf.get_feature_names_out()) #get_feature_names_out() - gives you list of unique words inside corpus\n",
        "x # here we are retaining information related to the frequency of words, TDM-Term Document Frequency"
      ],
      "metadata": {
        "id": "EUuJ3rXqNmyd"
      },
      "execution_count": null,
      "outputs": []
    },
    {
      "cell_type": "code",
      "source": [
        "x.shape"
      ],
      "metadata": {
        "colab": {
          "base_uri": "https://localhost:8080/"
        },
        "id": "ddfXnW_uPREr",
        "outputId": "f5dc9b26-a2f9-4531-db87-e11a081439b4"
      },
      "execution_count": null,
      "outputs": [
        {
          "output_type": "execute_result",
          "data": {
            "text/plain": [
              "(29, 216)"
            ]
          },
          "metadata": {},
          "execution_count": 36
        }
      ]
    },
    {
      "cell_type": "code",
      "source": [
        "tf.get_feature_names_out()"
      ],
      "metadata": {
        "id": "fbyk3po0N6HG"
      },
      "execution_count": null,
      "outputs": []
    },
    {
      "cell_type": "code",
      "source": [
        "len(tf.get_feature_names_out())"
      ],
      "metadata": {
        "id": "gjBgrFlTNiYA",
        "colab": {
          "base_uri": "https://localhost:8080/"
        },
        "outputId": "3d3de6cb-fbb7-46dc-f1d8-1bc5f755bdb0"
      },
      "execution_count": null,
      "outputs": [
        {
          "output_type": "execute_result",
          "data": {
            "text/plain": [
              "216"
            ]
          },
          "metadata": {},
          "execution_count": 38
        }
      ]
    }
  ]
}